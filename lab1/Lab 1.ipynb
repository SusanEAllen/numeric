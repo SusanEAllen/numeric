{
 "cells": [
  {
   "cell_type": "markdown",
   "metadata": {},
   "source": [
    "Laboratory #1: An Introduction to the Numerical Solution of Differential Equations: Discretization\n",
    "=============================================\n",
    "\n",
    "John M. Stockie"
   ]
  },
  {
   "cell_type": "markdown",
   "metadata": {},
   "source": [
    "1. Objectives\n",
    "==========\n",
    "\n",
    "The examples and exercises in this lab are meant to illustrate the\n",
    "limitations of analytical solution techniques, using several\n",
    "differential equation models for simple physical systems. This is the\n",
    "prime motivation for the use of numerical methods.\n",
    "\n",
    "After completing this lab, you will understand the process of\n",
    "*discretizing* a continuous problem, and be able to derive a simple\n",
    "finite difference approximation for an ordinary or partial differential\n",
    "equation. The examples will also introduce the concepts of *accuracy*\n",
    "and *stability*, which will be discussed further in the .\n",
    "\n",
    "Specifically you will be able to:\n",
    "\n",
    "-   Define the term or identify: Ordinary Differential Equation, Partial\n",
    "    Differential Equation, Linear equation, Non-linear equation, Initial\n",
    "    value problem,Boundary value problem, Open Domain, and Closed\n",
    "    Domain.\n",
    "\n",
    "-   Define the term, identify or perform: Forward difference\n",
    "    discretization, Backward difference discretization, and Centre\n",
    "    difference discretization.\n",
    "\n",
    "-   Define the term: Interpolation, Convergence, and Instability.\n",
    "\n",
    "-   Define the term or perform: Linear interpolation.\n"
   ]
  },
  {
   "cell_type": "markdown",
   "metadata": {},
   "source": [
    "2. Readings\n",
    "========\n",
    "\n",
    "There is no required reading for this lab, beyond the contents of the\n",
    "lab itself. However, if you would like additional background on any of\n",
    "the following topics, then refer to the sections indicated below:\n",
    "\n",
    "-   <span>**Differential Equations:**</span>\n",
    "\n",
    "    -    [Strang (1986)](#Ref:Strang), Chapter 6 (ODE’s).\n",
    "\n",
    "    -    [Boyce and DiPrima (1986)](#Ref:BoyceDiPrima) (ODE’s and PDE’s).\n",
    "\n",
    "-   <span>**Numerical Methods:**</span>\n",
    "\n",
    "    -    [Strang (1986)](#Ref:Strang), Section 5.1.\n",
    "\n",
    "    -    [Garcia (1994)](#Ref:Garcia), Sections 1.4–1.5, Chapter 2 (a basic introduction to\n",
    "        numerical methods for problems in physics).\n",
    "\n",
    "    -    [Boyce and DiPrima (1986)](#Ref:BoyceDiPrima), Sections 8.1–8.5, 8.7, 8.8."
   ]
  },
  {
   "cell_type": "markdown",
   "metadata": {},
   "source": [
    "*Running Code Cells*\n",
    "-------------------\n",
    "\n",
    "The next cell in this notebook is a code cell.  Run it by selecting it and hitting ctrl enter, or by selecting it and hitting the run button (arrow to right)"
   ]
  },
  {
   "cell_type": "code",
   "execution_count": 5,
   "metadata": {
    "collapsed": false
   },
   "outputs": [],
   "source": [
    "# import plotting package and numerical python package for use in examples later\n",
    "import matplotlib.pyplot as plt\n",
    "# make the plots happen inline\n",
    "% matplotlib inline  \n",
    "import numpy as np\n",
    "\n",
    "# import the quiz script\n",
    "import quiz"
   ]
  },
  {
   "cell_type": "markdown",
   "metadata": {},
   "source": [
    "3. Introduction: Why bother with numerical methods? \n",
    "================================================\n",
    "[lab1:sec:intro]: <#3-Introduction:-Why-bother-with-numerical-methods?> \"Intro\"\n",
    "\n",
    "In introductory courses in ordinary and partial differential equations\n",
    "(ODE’s and PDE’s), many analytical techniques are introduced for\n",
    "deriving solutions. These include the methods of undetermined\n",
    "coefficients, variation of parameters, power series, Laplace transforms,\n",
    "separation of variables, Fourier series, and phase plane analysis, to\n",
    "name a few. When there are so many analytical tools available, one is\n",
    "led to ask:\n",
    "\n",
    "> *Why bother with numerical methods at all?*\n",
    "\n",
    "The fact is that the class of problems that can be solved analytically\n",
    "is *very small*. Most differential equations that model physical\n",
    "processes cannot be solved explicitly, and the only recourse available\n",
    "is to use a numerical procedure to obtain an approximate solution of the\n",
    "problem.\n",
    "\n",
    "Furthermore, even if the equation can be integrated to obtain a closed\n",
    "form expression for the solution, it may sometimes be much easier to\n",
    "approximate the solution numerically than to evaluate it analytically.\n",
    "\n",
    "In the following two sections, we introduce two classical physical\n",
    "models, seen in most courses in differential equations. Analytical\n",
    "solutions are given for these models, but then seemingly minor\n",
    "modifications are made which make it difficult (if not impossible) to\n",
    "calculate actual solution values using analytical techniques. The\n",
    "obvious alternative is to use numerical methods."
   ]
  },
  {
   "cell_type": "markdown",
   "metadata": {},
   "source": [
    "3.1 Ordinary Differential Equations\n",
    "---------------------------------\n",
    "<!--- {#lab1:sec:odes} -->\n",
    "[lab1:sec:odes]: <#3.1-Ordinary-Differential-Equations> \"ODES\"\n",
    "\n",
    "In order to demonstrate the usefulness of numerical methods, let’s start\n",
    "by looking at an example of a *first-order initial value problem* (or\n",
    "*IVP*). In their most general form, these equations look like\n",
    "\n",
    "<div id='lab1:eq:modelode'>\n",
    "(Model ODE)\n",
    "$$\\begin{array}{c}\n",
    "    {\\displaystyle \\frac{dy}{dt} = f(y,t),} \\\\\n",
    "    \\; \\\\\n",
    "    y(0) = y_0, \n",
    "  \\end{array}$$\n",
    "</div>\n",
    "\n",
    "where\n",
    "\n",
    "-   $t$ is the *independent variable* (in many physical systems, which\n",
    "    change in time, $t$ represents time);\n",
    "\n",
    "-   $y(t)$ is the unknown quantity (or *dependent variable*) that we\n",
    "    want to solve for;\n",
    "\n",
    "-   $f(y,t)$ is a known function that can depend on both $y$ and $t$;\n",
    "    and\n",
    "\n",
    "-   $y_0$ is called the *initial value* or *initial condition*, since it\n",
    "    provides a value for the solution at an initial time, $t=0$ (the\n",
    "    initial value is required so that the problem has a unique\n",
    "    solution).\n",
    "\n",
    "This problem involves the first derivative of the solution, and also\n",
    "provides an initial value for $y$, and hence the name “first-order\n",
    "initial value problem”.\n",
    "\n",
    "Under certain very general conditions on the right hand side function\n",
    "$f$, we know that there will be a unique solution to the problem .\n",
    "However, only in very special cases can we actually write down a\n",
    "closed-form expression for the solution.\n",
    "\n",
    "In the remainder of this section, we will leave the general equation,\n",
    "and investigate a specific example related to heat conduction. It will\n",
    "become clear that it is the problems which *do not have exact solutions*\n",
    "which are the most interesting or meaningful from a physical standpoint."
   ]
  },
  {
   "cell_type": "markdown",
   "metadata": {},
   "source": [
    "*Example One*\n",
    "------------\n",
    "<!--- {#lab1:exm:conduction} -->\n",
    "[lab1:exm:conduction]: <#Example-One> \"Example 1\"\n",
    "\n",
    "> Consider a small rock, surrounded by air or water,\n",
    "which gains or loses heat only by conduction with its surroundings\n",
    "(there are no radiation effects). If the rock is small enough, then we\n",
    "can ignore the effects of diffusion of heat within the rock, and\n",
    "consider only the flow of heat through its surface, where the rock\n",
    "interacts with the surrounding medium.\n",
    "\n",
    "> It is well known from experimental observations that the rate at which\n",
    "the temperature of the rock changes is proportional to the difference\n",
    "between the rock’s surface temperature, $T(t)$, and the *ambient\n",
    "temperature*, $T_a$ (the ambient temperature is simply the temperature\n",
    "of the surrounding material, be it air, water, …). This relationship is\n",
    "expressed by the following ordinary differential equation\n",
    "<div id='lab1:eq:conduction1d'>\n",
    "(Conduction 1d)\n",
    "$$%    \\textcolor[named]{Red}{\\frac{dT}{dt}} = -\\lambda \\,\n",
    "%    \\textcolor[named]{Blue}{(T-T_a)} .\n",
    "    \\underbrace{\\frac{dT}{dt}}_{\\begin{array}{c} \n",
    "                                \\mbox{rate of change}\\\\\n",
    "                                \\mbox{of temperature}\n",
    "                                \\end{array}}\n",
    "    = -\\lambda \\underbrace{(T-T_a)}_{\\begin{array}{c} \n",
    "                                \\mbox{temperature}\\\\\n",
    "                                \\mbox{difference}\n",
    "                                \\end{array}} .$$\n",
    "</div>\n",
    "    \n",
    ">and is commonly known as *Newton’s\n",
    "Law of Cooling*. (The parameter $\\lambda$ is defined to be\n",
    "$\\lambda = \\mu A/cM$, where $A$ is the surface area of the rock, $M$ is\n",
    "its mass, $\\mu$ its thermal conductivity, and $c$ its specific heat.)"
   ]
  },
  {
   "cell_type": "markdown",
   "metadata": {},
   "source": [
    "Conduction Quiz \n",
    "--------------\n",
    "\n",
    "$\\lambda$ is positive? True or False?\n",
    "\n",
    "In the following, replace 'xxxx' by 'True', 'False', 'Hint 1' or 'Hint 2' and run the cell ([how to](#Running-Code-Cells))"
   ]
  },
  {
   "cell_type": "code",
   "execution_count": 3,
   "metadata": {
    "collapsed": false
   },
   "outputs": [
    {
     "name": "stdout",
     "output_type": "stream",
     "text": [
      "Acceptable answers are 'True', 'False', 'Hint 1' or 'Hint 2'\n"
     ]
    }
   ],
   "source": [
    "print (quiz.conduction_quiz(answer = 'xxxx'))"
   ]
  },
  {
   "cell_type": "markdown",
   "metadata": {},
   "source": [
    "If we assume that $\\lambda$ is a constant, then the solution to this\n",
    "equation is given by \n",
    "\n",
    "<div id='lab1:eq:conduction-soln'>\n",
    "(Conduction solution)\n",
    "$$T(t) = T_a + (T(0)-T_a)e^{-\\lambda t},$$\n",
    "</div>\n",
    "\n",
    "where $T(0)$ is the initial temperature.\n",
    "\n",
    "**Mathematical Note:** Details of the solution can be found in the [Appendix](#Solution-to-the=Heat-Conduction-Equation)\n",
    "\n",
    "\n",
    "In order to obtain realistic value of the parameter $\\lambda$, let our\n",
    "“small” rock be composed of granite, with mass of $1\\;gram$, which\n",
    "corresponds to a $\\lambda \\approx 10^{-5}\\;sec^{-1}$.\n",
    "\n",
    "Sample solution curves are given in Figure [Conduction](#lab1:fig:conduction).\n",
    "\n",
    "<div id='lab1:fig:conduction'>\n",
    "![Plot of solution curves $T(t)$ for $T_0=-10,15,20,30$; parameter\n",
    "values: $\\lambda=10^{-5}$, $T_a=20$.](conduction/conduction.png) \n",
    "Figure One, Conduction: Plot of solution curves $T(t)$ for $T_0=-10,15,20,30$; parameter\n",
    "values: $\\lambda=10^{-5}$, $T_a=20$)\n",
    "</div>"
   ]
  },
  {
   "cell_type": "markdown",
   "metadata": {},
   "source": [
    "##Demo: Conduction\n",
    "[lab1:demo:conduction]: <#Demo:-Conduction> \"Conduction Demo\"\n",
    "\n",
    "Here is an interactive example that investigates the behaviour of the solution.\n",
    "\n",
    "The next cell is the function that does the calculation and plotting.  You need to run this cell ([how to](#Running-Code-Cells)) to load it.  Loading it does not run the function.  See the cell after for next instructions."
   ]
  },
  {
   "cell_type": "code",
   "execution_count": 42,
   "metadata": {
    "collapsed": false
   },
   "outputs": [],
   "source": [
    "def lab1_temperature(Ta = 20, To = np.array([-10., 10., 20., 30.]), la = 0.00001):\n",
    "    \"\"\"\n",
    "    Script to plot the exponential decay of temperature of four objects\n",
    "    with different initial temperature in a single ambient temperature.\n",
    "\n",
    "     Example usage, use default values:\n",
    "\n",
    "     >> lab1_temperature()\n",
    "    \n",
    "    Example usage, set Ta=10, To=(-5, 5, 10, 15) and la (lambda)= 0.0002:\n",
    "\n",
    "     >> lab1_temperature(10, array([-5., 5., 10., 15.]), la = 0.0002)\n",
    "     \n",
    "    Ta is the ambient temperature (Celcius)\n",
    "    To is the initial temperature (four different cases) (Celcius)\n",
    "    la is lambda, the time constant of equilibriations (1/second)\n",
    "\n",
    "    \"\"\"\n",
    "    \n",
    "    # set the time scale (seconds)\n",
    "    t = np.arange(0., 400000., 100.)\n",
    "\n",
    "    # calculate the temperatures with time for the different initial temperatures\n",
    "    T = np.zeros((To.shape[0], t.shape[0]))\n",
    "    for i, Tinitial in enumerate(To):\n",
    "        T[i,:] = Ta + (Tinitial - Ta) * np.exp(-la * t)\n",
    "\n",
    "    # plot the temperatures in hours\n",
    "    t=t/3600.\n",
    "    for i, Tinitial in enumerate(To):\n",
    "        plt.plot(t, T[i], label=\"To = %s\" % Tinitial)\n",
    "        \n",
    "    # label axes    \n",
    "    plt.xlabel('time (hours)')\n",
    "    plt.ylabel('temperature (deg C)')\n",
    "\n",
    "    # add a legend\n",
    "    plt.legend(loc=\"lower right\")"
   ]
  },
  {
   "cell_type": "markdown",
   "metadata": {},
   "source": [
    "You need to call the function. Simpliest call is next cell. "
   ]
  },
  {
   "cell_type": "code",
   "execution_count": 43,
   "metadata": {
    "collapsed": false
   },
   "outputs": [
    {
     "data": {
      "image/png": "[encoded data removed]",
      "text/plain": [
       "<matplotlib.figure.Figure at 0x105a97f98>"
      ]
     },
     "metadata": {},
     "output_type": "display_data"
    }
   ],
   "source": [
    "# simple call to temperature demo\n",
    "lab1_temperature()"
   ]
  },
  {
   "cell_type": "markdown",
   "metadata": {},
   "source": [
    "After running as is try changing To = To (the initial temperature), Ta = Ta (the ambient temperature) or la = λ (the effective conductivity) to investigate changes in the solution."
   ]
  },
  {
   "cell_type": "code",
   "execution_count": 45,
   "metadata": {
    "collapsed": false
   },
   "outputs": [
    {
     "data": {
      "image/png": "[encoded data removed]",
      "text/plain": [
       "<matplotlib.figure.Figure at 0x105d2ab38>"
      ]
     },
     "metadata": {},
     "output_type": "display_data"
    }
   ],
   "source": [
    "# setting different values \n",
    "# (note this uses the defaults again as written, you should change the values)\n",
    "lab1_temperature(Ta = 20, To = np.array([-10., 10., 20., 30.]), la = 0.00001)"
   ]
  },
  {
   "cell_type": "markdown",
   "metadata": {},
   "source": [
    "*Example Two*\n",
    "------------\n",
    "<!--- {#lab1:exm:conduction-nonlinear} -->\n",
    "[lab1:exm:conduction-nonlinear]: <#Example-Two> \"Example 2\"\n",
    "\n",
    "> Suppose that the rock in the previous\n",
    "example has a $\\lambda$ which is *not* constant. For example, if that\n",
    "the rock is made of a material whose specific heat varies with the\n",
    "temperature or time, then $\\lambda$ can be a function of $T$ or $t$.\n",
    "This might happen if the material composing the rock undergoes a phase\n",
    "transition at a certain critical temperature (for example, a melting ice\n",
    "pellet). The problem is now a *non-linear* one, for which analytical\n",
    "techniques may or may not provide a solution.\n",
    "\n",
    "> If $\\lambda=\\lambda(T)$, a function of temperature only, then the exact\n",
    "solution may be written as\n",
    "$$T(t) = T_a + \\exp{\\left[-\\int^{t}_{0} \\lambda(T(s))ds \\right]},$$\n",
    "which involves an integral that may or may not be evaluated\n",
    "analytically, in which case we can only approximate the integral.\n",
    "Furthermore, if $\\lambda$ is a function of both $T$ and $t$ which is\n",
    "*not separable* (cannot be written as a product of a function of $T$ and\n",
    "$t$), then we may not be able to write down a closed form for the\n",
    "solution at all, and we must resort to numerical methods to obtain a\n",
    "solution.\n",
    "\n",
    "> Even worse, suppose that we don’t know $\\lambda$ explicitly as a\n",
    "function of temperature, but rather only from experimental measurements\n",
    "of the rock (see Figure [Table](#lab1:fig:table) for an example). \n",
    "\n",
    "|    i   | Temperature ($T_i$)   |    Measured $\\lambda_i$  |\n",
    "|    -   | :------------------:  |    :-------------------: |\n",
    "|    0   |       -5.0            |       2.92 |\n",
    "|    1   |       -2.0            |       1.59 |\n",
    "|    2   |       1.0             |       1.00 |\n",
    "|    3   |       4.0             |       2.52 |\n",
    "|    4   |       7.0             |       3.66 |   \n",
    "|    5   |      10.0             |       4.64 |\n",
    "\n",
    "> <div id='lab1:fig:table'>\n",
    "![A rock with $\\lambda$ known only at a sequence of discrete temperature\n",
    "values, from experimental measurements. The function $\\lambda(T)$ can be\n",
    "represented approximately using linear interpolation (and the resulting\n",
    "approximate function can then be used to solve the problem\n",
    "numerically).](table/table-interp.png)\n",
    "Figure Two, Table: A rock with $\\lambda$ known only at a sequence of discrete temperature\n",
    "values, from experimental measurements. The function $\\lambda(T)$ can be\n",
    "represented approximately using linear interpolation (and the resulting\n",
    "approximate function can then be used to solve the problem\n",
    "numerically).\n",
    "</div>\n",
    "\n",
    ">Then there is\n",
    "no way to express the rock’s temperature as a function, and analytical\n",
    "methods fail us, since we do not know the values at points between the\n",
    "given values. One alternative is to approximate $\\lambda$ at\n",
    "intermediate points by joining successive points with straight lines\n",
    "(this is called *linear interpolation*), and then use the resulting\n",
    "function in a numerical scheme for computing the solution.\n",
    "\n",
    "As the above example demonstrates, even for a simple ODE such as [1-d conduction](#lab1:eq:conduction1d), there\n",
    "are situations where analytical methods are inadequate."
   ]
  },
  {
   "cell_type": "markdown",
   "metadata": {},
   "source": [
    "3.2 Partial Differential Equations\n",
    "------------------------------\n",
    "\n",
    "*Example Three*\n",
    "--------------\n",
    "[lab1:exm:diffusion1d]: <#Example-Three> \"Example 3\"\n",
    "\n",
    "> The rock in [Example One](#Example-One) was\n",
    "considered to be small enough that the effects of heat diffusion in the\n",
    "interior were negligible in comparison to the heat lost by conduction\n",
    "through its surface. In this example, consider a rock that is *not\n",
    "small*, and whose temperature changes are dominated by internal\n",
    "diffusion effects. Therefore, it is no longer possible to ignore the\n",
    "spatial dependence in the problem.\n",
    "\n",
    "> For simplicity, we will add spatial dependence in one direction only,\n",
    "which corresponds to a “one-dimensional rock”, or a thin rod. Assume\n",
    "that the rod is insulated along its sides, so that heat flows only along\n",
    "its length, and possibly out the ends (see Figure [Rod](#lab1:fig:rock-1d)).\n",
    "\n",
    "> <div id='lab1:fig:rock-1d'>\n",
    "![A thin rod can be thought of as a model for a one-dimensional\n",
    "rock.](conduction/rod.png)\n",
    "Figure Three, Rod: A thin rod can be thought of as a model for a one-dimensional\n",
    "rock.\n",
    "</div>\n",
    "\n",
    "> Consequently, the temperature varies only with position, $x$, and time,\n",
    "$t$, and can be written as a function $u(x,t)$. The temperature in the\n",
    "rod is governed by the following PDE $$u_t = \\alpha^2 u_{xx},$$ for\n",
    "which we have to provide an initial temperature $$u(x,0) = u_0(x),$$ and\n",
    "boundary values $$u(0,t)=u(1,t)=0,$$ where\n",
    "\n",
    "> -   $\\alpha^2$ is the *thermal diffusivity* of the material,\n",
    "\n",
    "> -   $u_0(x)$ is the initial temperature distribution in the rod, and\n",
    "\n",
    "> -   the boundary conditions indicate that the ends of the rod are held\n",
    "    at constant temperature, which we’ve assumed is zero.\n",
    "\n",
    "> Thermal diffusivity is a quantity that depends only on the material from\n",
    "which the bar is made. It is defined by\n",
    "$$\\alpha^2 = \\frac{\\kappa}{\\rho c},$$ where $\\kappa$ is the thermal\n",
    "conductivity, $\\rho$ is the density, and $c$ is the specific heat. A\n",
    "typical value of the thermal diffusivity for a granite bar is\n",
    "$0.011\\;cm^2/sec$, and $0.0038\\;cm^2/sec$ for a bar made of brick.\n",
    "\n",
    "> Using the method of *separation of variables*, we can look for a\n",
    "temperature function of the form $u(x,t)=X(x) \\cdot T(t)$, which leads\n",
    "to the infinite series solution\n",
    "$$u(x,t) = \\sum_{n=1}^\\infty b_n e^{-n^2\\pi^2\\alpha^2 t}\\sin{(n\\pi x)},$$\n",
    "where the series coefficients are\n",
    "$$b_n = 2 \\int_0^1 u_0(x) \\sin{(n\\pi x)} dx.$$\n",
    "\n",
    "> **Mathematical Note:** Details of the derivation can be found in any introductory text in PDE’s\n",
    "(for example, [Boyce and DiPrima (1986)](#Ref:BoyceDiPrima) [p. 549]).\n",
    "\n",
    "> We do manage to obtain an explicit formula for the solution, which can\n",
    "be used to calculate actual values of the solution. However, there are\n",
    "two obvious reasons why this formula is not of much practical use:\n",
    "\n",
    "> 1.  The series involves an infinite number of terms (except for very\n",
    "    special forms for the initial heat distribution … such as the one\n",
    "    shown below). We might be able to truncate the series, since each\n",
    "    term decreases exponentially in size, but it is not trivial to\n",
    "    decide how many terms to choose in order to get an accurate answer\n",
    "    and here we are already entering the realm of numerical\n",
    "    approximation.\n",
    "\n",
    "> 2.  Each term in the series requires the evaluation of an integral. When\n",
    "    these cannot be integrated analytically, we must find some way to\n",
    "    approximate the integrals … numerical analysis rears its head once\n",
    "    again!\n",
    "\n",
    "> For most physical problems, an analytical expression cannot be obtained,\n",
    "and the exact formula is not of much use.\n",
    "\n",
    "> However, consider a very special case, when the initial temperature\n",
    "distribution is sinusoidal, $$u_0(x) = sin(\\pi x).$$ For this problem,\n",
    "the infinite series collapses into a single term\n",
    "$$u(x,t) = e^{-\\pi^2\\alpha^2t}\\sin{\\pi x}.$$\n",
    "\n",
    "> Sample solution curves are given in Figure [1d Diffusion](#lab1:fig:diffusion-1d).\n",
    "\n",
    "> <div id='lab1:fig:diffusion-1d'>\n",
    "![Temperature vs. position curves at various times, for heat diffusion\n",
    "in a rod with sinusoidal initial temperature distribution and parameter\n",
    "value $\\alpha=0.2$.](diffusion/diffusion.png)\n",
    "Figure Four, 1d Diffusion: Plot of temperature vs. position curves at various times, for heat diffusion\n",
    "in a rod with sinusoidal initial temperature distribution and parameter\n",
    "value $\\alpha=0.2$.\n",
    "</div>\n"
   ]
  },
  {
   "cell_type": "markdown",
   "metadata": {},
   "source": [
    "##Movie: Diffusion\n",
    "Here is a movie of the exact solution to the diffusion problem. Run the cell, then run the video.  If you want to see the video again, re-run the cell.  (The video doesn't rerun properly from the wysiwyg interface)"
   ]
  },
  {
   "cell_type": "code",
   "execution_count": 72,
   "metadata": {
    "collapsed": false
   },
   "outputs": [
    {
     "data": {
      "text/html": [
       "\n",
       "        <iframe\n",
       "            width=\"800\"\n",
       "            height=\"300\"\n",
       "            src=\"https://www.youtube.com/embed/b4D2ktTtw7E?rel=0&modestbranding=1\"\n",
       "            frameborder=\"0\"\n",
       "            allowfullscreen\n",
       "        ></iframe>\n",
       "        "
      ],
      "text/plain": [
       "<IPython.lib.display.YouTubeVideo at 0x1078bbd30>"
      ]
     },
     "metadata": {},
     "output_type": "display_data"
    }
   ],
   "source": [
    "import IPython.display as display\n",
    "\n",
    "vid = display.YouTubeVideo(\"b4D2ktTtw7E\", modestbranding=1, rel=0, width=800)\n",
    "display.display(vid)\n"
   ]
  },
  {
   "cell_type": "markdown",
   "metadata": {},
   "source": [
    "#### Summary\n",
    "\n",
    "This section is best summed up by the insightful comment of [Strang (1986)](#Ref:Strang)\n",
    "[p. 587]:\n",
    "\n",
    "> **Nature is nonlinear.**\n",
    "\n",
    "Most problems arising in physics (which are non-linear) cannot be solved\n",
    "analytically, or result in expressions that have little practical value,\n",
    "and we must turn to numerical solution techniques."
   ]
  },
  {
   "cell_type": "markdown",
   "metadata": {
    "collapsed": true
   },
   "source": [
    "4. Discretization\n",
    "==============\n",
    "\n",
    "When computing analytical solutions to differential equations, we are\n",
    "dealing with *continuous functions*; functions that depend continuously\n",
    "on the independent variables. A computer, however, has only finite\n",
    "storage capacity, and hence there is no way to represent continuous\n",
    "data, except approximately as a sequence of *discrete* values.\n",
    "\n",
    "*Example Four*\n",
    "--------------\n",
    "> We already saw an example of a discrete function in\n",
    "Example [Two](#Example-Two) where the rate function\n",
    "\n",
    "> $\\lambda$, depended on the temperature. If $\\lambda$ is not known by\n",
    "some empirical formula, then it can only be determined by experimental\n",
    "measurements at a discrete set of temperature values. In\n",
    "Figure [Table](#lab1:fig:table), $\\lambda$ is given at a sequence of six\n",
    "temperature points ($(T_i, \\lambda_i)$, for $i = 0, 1, \\dots, 5)$),\n",
    "and so is an example of a *discrete function*.\n",
    "\n",
    "> The process of interpolation, which was introduced in\n",
    "Example [Two](#Example-Two), will be considered in more\n",
    "detail next.\n",
    "\n",
    "*Example Five*\n",
    "-------------\n",
    "\n",
    "> Consider the two continuous functions\n",
    "$$f(x)=x^3-5x \\;\\; {\\rm and} \\;\\; g(x)=x^{2/3} .$$ (In fact, $g(x)$ was\n",
    "the function used to generate the values $\\lambda(T)$ in\n",
    "Example [Two](http://localhost:8889/notebooks/Lab%201.ipynb#Example-Two)).\n",
    "\n",
    "> The representation of functions using mathematical notation or graphs is\n",
    "very convenient for mathematicians, where continuous functions make\n",
    "sense. However, a computer has a limited storage capacity, and so it can\n",
    "represent a function only at a finite number of discrete points $(x, y)$.\n",
    "\n",
    "> One question that arises immediately is: *What do we do if we have to\n",
    "determine a value of the function which is not at one of the discrete\n",
    "points?* The answer to this question is to use some form of\n",
    "<span>*interpolation*</span> – namely to use an approximation procedure\n",
    "to estimate values of the function at points between the known values.\n",
    "\n",
    "> For example, linear interpolation approximates the function at\n",
    "intermediate points using the straight line segment joining the two\n",
    "neighbouring discrete points. There are other types of interpolation\n",
    "schemes that are more complicated, a few of which are:\n",
    "\n",
    ">-   quadratic interpolation: every two sucessive points are joined by a\n",
    "    quadratic polynomial.\n",
    "\n",
    ">-   cubic splines: each pair of points is joined by a cubic polynomial\n",
    "    so that the function values and first derivatives match at each\n",
    "    point.\n",
    "\n",
    ">-   Fourier series: instead of polynomials, uses a sum of $\\sin nx$ and\n",
    "    $\\cos nx$ to approximate the function (Fourier series are useful in\n",
    "    analysis, as well as spectral methods).\n",
    "\n",
    ">-   Chebyshev polynomials: another type of polynomial approximation\n",
    "    which is useful for spectral methods.\n",
    "\n",
    ">-   …many others …\n",
    "\n",
    ">For details on any of these interpolation schemes, see a numerical\n",
    "analysis text such as that by [Burden and Faires (1981)](#Ref-BurdenFaires)."
   ]
  },
  {
   "cell_type": "markdown",
   "metadata": {},
   "source": [
    "> An application of linear interpolation to discrete versions of the\n",
    "functions $f$ and $g$ is shown in Figure [f and g](#lab1:fig:discrete-f).\n",
    "\n",
    "> <div id='lab1:fig:discrete-f'>\n",
    "![The functions $f$ and $g$ are known only at discrete points. The\n",
    "function can be approximated at other values by linear interpolation,\n",
    "where straight line segments are used to join successive points.](discrete/f.png) \n",
    "![The\n",
    "functions $f$ and $g$ are known only at discrete points. The function\n",
    "can be approximated at other values by linear interpolation, where\n",
    "straight line segments are used to join successive points.](discrete/g.png)\n",
    "Figure Five, f and g: The functions $f$ and $g$ are known only at discrete points. The\n",
    "function can be approximated at other values by linear interpolation,\n",
    "where straight line segments are used to join successive points.\n",
    "</div>\n",
    "\n",
    "> Depending on the function, or number of location of the points chosen,\n",
    "the approximation may be more or less accurate. In\n",
    "Figure [f and g](#lab1:fig:discrete-f), it is not clear which function is\n",
    "approximated more accurately. In the graph of $f(x)$, the error seems to\n",
    "be fairly small throughout. However, for the function $g(x)$, the error\n",
    "is large near $x=0$, and then very small elsewhere. This problem of\n",
    "*accuracy* of discrete approximations will come up again and again in\n",
    "this course."
   ]
  },
  {
   "cell_type": "markdown",
   "metadata": {},
   "source": [
    "## Demo: Interpolation\n",
    "[lab1:demo:discrete]: <#Demo:-Interpolation> \"Interpolation Demo\"\n",
    "Here is an interactive example demonstrating the use of interpolation (linear and cubic) in approximating functions. "
   ]
  },
  {
   "cell_type": "code",
   "execution_count": null,
   "metadata": {
    "collapsed": true
   },
   "outputs": [],
   "source": []
  }
 ],
 "metadata": {
  "kernelspec": {
   "display_name": "Python 3",
   "language": "python",
   "name": "python3"
  },
  "language_info": {
   "codemirror_mode": {
    "name": "ipython",
    "version": 3
   },
   "file_extension": ".py",
   "mimetype": "text/x-python",
   "name": "python",
   "nbconvert_exporter": "python",
   "pygments_lexer": "ipython3",
   "version": "3.4.3"
  }
 },
 "nbformat": 4,
 "nbformat_minor": 0
}
