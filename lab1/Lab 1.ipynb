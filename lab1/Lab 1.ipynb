{
 "cells": [
  {
   "cell_type": "markdown",
   "metadata": {},
   "source": [
    "Laboratory #1: An Introduction to the Numerical Solution of Differential Equations: Discretization\n",
    "=============================================\n",
    "\n",
    "John M. Stockie"
   ]
  },
  {
   "cell_type": "markdown",
   "metadata": {},
   "source": [
    "Objectives\n",
    "==========\n",
    "\n",
    "The examples and exercises in this lab are meant to illustrate the\n",
    "limitations of analytical solution techniques, using several\n",
    "differential equation models for simple physical systems. This is the\n",
    "prime motivation for the use of numerical methods.\n",
    "\n",
    "After completing this lab, you will understand the process of\n",
    "*discretizing* a continuous problem, and be able to derive a simple\n",
    "finite difference approximation for an ordinary or partial differential\n",
    "equation. The examples will also introduce the concepts of *accuracy*\n",
    "and *stability*, which will be discussed further in the .\n",
    "\n",
    "Specifically you will be able to:\n",
    "\n",
    "-   Define the term or identify: Ordinary Differential Equation, Partial\n",
    "    Differential Equation, Linear equation, Non-linear equation, Initial\n",
    "    value problem,Boundary value problem, Open Domain, and Closed\n",
    "    Domain.\n",
    "\n",
    "-   Define the term, identify or perform: Forward difference\n",
    "    discretization, Backward difference discretization, and Centre\n",
    "    difference discretization.\n",
    "\n",
    "-   Define the term: Interpolation, Convergence, and Instability.\n",
    "\n",
    "-   Define the term or perform: Linear interpolation.\n"
   ]
  },
  {
   "cell_type": "markdown",
   "metadata": {},
   "source": [
    "Readings\n",
    "========\n",
    "\n",
    "There is no required reading for this lab, beyond the contents of the\n",
    "lab itself. However, if you would like additional background on any of\n",
    "the following topics, then refer to the sections indicated below:\n",
    "\n",
    "-   <span>**Differential Equations:**</span>\n",
    "\n",
    "    -    @strang-am, Chapter 6 (ODE’s).\n",
    "\n",
    "    -    @boyce-diprima (ODE’s and PDE’s).\n",
    "\n",
    "-   <span>**Numerical Methods:**</span>\n",
    "\n",
    "    -    @strang-am, Section 5.1.\n",
    "\n",
    "    -    @garcia, Sections 1.4–1.5, Chapter 2 (a basic introduction to\n",
    "        numerical methods for problems in physics).\n",
    "\n",
    "    -    @boyce-diprima, Sections 8.1–8.5, 8.7, 8.8."
   ]
  },
  {
   "cell_type": "markdown",
   "metadata": {},
   "source": [
    "Introduction: Why bother with numerical methods? {#lab1:sec:intro}\n",
    "================================================\n",
    "\n",
    "In introductory courses in ordinary and partial differential equations\n",
    "(ODE’s and PDE’s), many analytical techniques are introduced for\n",
    "deriving solutions. These include the methods of undetermined\n",
    "coefficients, variation of parameters, power series, Laplace transforms,\n",
    "separation of variables, Fourier series, and phase plane analysis, to\n",
    "name a few. When there are so many analytical tools available, one is\n",
    "led to ask:\n",
    "\n",
    "> *Why bother with numerical methods at all?*\n",
    "\n",
    "The fact is that the class of problems that can be solved analytically\n",
    "is *very small*. Most differential equations that model physical\n",
    "processes cannot be solved explicitly, and the only recourse available\n",
    "is to use a numerical procedure to obtain an approximate solution of the\n",
    "problem.\n",
    "\n",
    "Furthermore, even if the equation can be integrated to obtain a closed\n",
    "form expression for the solution, it may sometimes be much easier to\n",
    "approximate the solution numerically than to evaluate it analytically.\n",
    "\n",
    "In the following two sections, we introduce two classical physical\n",
    "models, seen in most courses in differential equations. Analytical\n",
    "solutions are given for these models, but then seemingly minor\n",
    "modifications are made which make it difficult (if not impossible) to\n",
    "calculate actual solution values using analytical techniques. The\n",
    "obvious alternative is to use numerical methods."
   ]
  },
  {
   "cell_type": "markdown",
   "metadata": {},
   "source": [
    "Ordinary Differential Equations {#lab1:sec:odes}\n",
    "-------------------------------\n",
    "\n",
    "In order to demonstrate the usefulness of numerical methods, let’s start\n",
    "by looking at an example of a *first-order initial value problem* (or\n",
    "*IVP*). In their most general form, these equations look like"
   ]
  },
  {
   "cell_type": "markdown",
   "metadata": {},
   "source": [
    "$$\\begin{array}{c}\n",
    "    {\\displaystyle \\frac{dy}{dt} = f(y,t),} \\\\\n",
    "    \\; \\\\\n",
    "    y(0) = y_0, \n",
    "  \\end{array}$$\n",
    "  \\label{lab1:eq:modelode}"
   ]
  },
  {
   "cell_type": "markdown",
   "metadata": {},
   "source": [
    "where\n",
    "\n",
    "-   $t$ is the *independent variable* (in many physical systems, which\n",
    "    change in time, $t$ represents time);\n",
    "\n",
    "-   $y(t)$ is the unknown quantity (or *dependent variable*) that we\n",
    "    want to solve for;\n",
    "\n",
    "-   $f(y,t)$ is a known function that can depend on both $y$ and $t$;\n",
    "    and\n",
    "\n",
    "-   $y_0$ is called the *initial value* or *initial condition*, since it\n",
    "    provides a value for the solution at an initial time, $t=0$ (the\n",
    "    initial value is required so that the problem has a unique\n",
    "    solution).\n",
    "\n",
    "This problem involves the first derivative of the solution, and also\n",
    "provides an initial value for $y$, and hence the name “first-order\n",
    "initial value problem”."
   ]
  },
  {
   "cell_type": "markdown",
   "metadata": {},
   "source": [
    "Under certain very general conditions on the right hand side function\n",
    "$f$, we know that there will be a unique solution to the problem .\n",
    "However, only in very special cases can we actually write down a\n",
    "closed-form expression for the solution.\n",
    "\n",
    "In the remainder of this section, we will leave the general equation,\n",
    "and investigate a specific example related to heat conduction. It will\n",
    "become clear that it is the problems which *do not have exact solutions*\n",
    "which are the most interesting or meaningful from a physical standpoint."
   ]
  },
  {
   "cell_type": "markdown",
   "metadata": {},
   "source": [
    "[lab1:exm:conduction] \n",
    "*Example One* \n",
    "\n",
    "Consider a small rock, surrounded by air or water,\n",
    "which gains or loses heat only by conduction with its surroundings\n",
    "(there are no radiation effects). If the rock is small enough, then we\n",
    "can ignore the effects of diffusion of heat within the rock, and\n",
    "consider only the flow of heat through its surface, where the rock\n",
    "interacts with the surrounding medium.\n",
    "\n",
    "It is well known from experimental observations that the rate at which\n",
    "the temperature of the rock changes is proportional to the difference\n",
    "between the rock’s surface temperature, $T(t)$, and the *ambient\n",
    "temperature*, $T_a$ (the ambient temperature is simply the temperature\n",
    "of the surrounding material, be it air, water, …). This relationship is\n",
    "expressed by the following ordinary differential equation\n",
    "$$%    \\textcolor[named]{Red}{\\frac{dT}{dt}} = -\\lambda \\,\n",
    "%    \\textcolor[named]{Blue}{(T-T_a)} .\n",
    "    \\underbrace{\\frac{dT}{dt}}_{\\begin{array}{c} \n",
    "                                \\mbox{rate of change}\\\\\n",
    "                                \\mbox{of temperature}\n",
    "                                \\end{array}}\n",
    "    = -\\lambda \\underbrace{(T-T_a)}_{\\begin{array}{c} \n",
    "                                \\mbox{temperature}\\\\\n",
    "                                \\mbox{difference}\n",
    "                                \\end{array}} .$$\n",
    "    \\label{lab1:eq:conduction1d}\n",
    "    \n",
    "and is commonly known as *Newton’s\n",
    "Law of Cooling*. (The parameter $\\lambda$ is defined to be\n",
    "$\\lambda = \\mu A/cM$, where $A$ is the surface area of the rock, $M$ is\n",
    "its mass, $\\mu$ its thermal conductivity, and $c$ its specific heat.)"
   ]
  },
  {
   "cell_type": "code",
   "execution_count": null,
   "metadata": {
    "collapsed": true
   },
   "outputs": [],
   "source": []
  },
  {
   "cell_type": "markdown",
   "metadata": {},
   "source": [
    "If we assume that $\\lambda$ is a constant, then the solution to this\n",
    "equation is given by $$T(t) = T_a + (T(0)-T_a)e^{-\\lambda t},\n",
    "    \\label{lab1:eq:conduction-soln}$$ where $T(0)$ is the initial\n",
    "temperature.\n",
    "\n",
    "In order to obtain realistic value of the parameter $\\lambda$, let our\n",
    "“small” rock be composed of granite, with mass of $1\\;gram$, which\n",
    "corresponds to a $\\lambda \\approx 10^{-5}\\;sec^{-1}$.\n",
    "\n",
    "Sample solution curves are given in Figure [lab1:fig:conduction].\n",
    "\n",
    "![Plot of solution curves $T(t)$ for $T_0=-10,15,20,30$; parameter\n",
    "values: $\\lambda=10^{-5}$, $T_a=20$.<span\n",
    "data-label=\"lab1:fig:conduction\"></span>](conduction/conduction)\n",
    "\n",
    "[lab1:exm:conduction-nonlinear] Suppose that the rock in the previous\n",
    "example has a $\\lambda$ which is *not* constant. For example, if that\n",
    "the rock is made of a material whose specific heat varies with the\n",
    "temperature or time, then $\\lambda$ can be a function of $T$ or $t$.\n",
    "This might happen if the material composing the rock undergoes a phase\n",
    "transition at a certain critical temperature (for example, a melting ice\n",
    "pellet). The problem is now a *non-linear* one, for which analytical\n",
    "techniques may or may not provide a solution.\n",
    "\n",
    "If $\\lambda=\\lambda(T)$, a function of temperature only, then the exact\n",
    "solution may be written as\n",
    "$$T(t) = T_a + \\exp{\\left[-\\int^{t}_{0} \\lambda(T(s))ds \\right]},$$\n",
    "which involves an integral that may or may not be evaluated\n",
    "analytically, in which case we can only approximate the integral.\n",
    "Furthermore, if $\\lambda$ is a function of both $T$ and $t$ which is\n",
    "*not separable* (cannot be written as a product of a function of $T$ and\n",
    "$t$), then we may not be able to write down a closed form for the\n",
    "solution at all, and we must resort to numerical methods to obtain a\n",
    "solution.\n",
    "\n",
    "Even worse, suppose that we don’t know $\\lambda$ explicitly as a\n",
    "function of temperature, but rather only from experimental measurements\n",
    "of the rock (see Figure [lab1:fig:table] for an example). Then there is\n",
    "no way to express the rock’s temperature as a function, and analytical\n",
    "methods fail us, since we do not know the values at points between the\n",
    "given values. One alternative is to approximate $\\lambda$ at\n",
    "intermediate points by joining successive points with straight lines\n",
    "(this is called *linear interpolation*), and then use the resulting\n",
    "function in a numerical scheme for computing the solution.\n"
   ]
  },
  {
   "cell_type": "markdown",
   "metadata": {},
   "source": []
  }
 ],
 "metadata": {
  "kernelspec": {
   "display_name": "Python 3",
   "language": "python",
   "name": "python3"
  },
  "language_info": {
   "codemirror_mode": {
    "name": "ipython",
    "version": 3
   },
   "file_extension": ".py",
   "mimetype": "text/x-python",
   "name": "python",
   "nbconvert_exporter": "python",
   "pygments_lexer": "ipython3",
   "version": "3.4.3"
  }
 },
 "nbformat": 4,
 "nbformat_minor": 0
}
