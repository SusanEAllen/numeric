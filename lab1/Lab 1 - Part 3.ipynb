{
 "cells": [
  {
   "cell_type": "markdown",
   "metadata": {},
   "source": [
    "6. Generalizations\n",
    "===============\n",
    "\n",
    "The idea of discretization introduced in the previous section can be\n",
    "generalized in several ways, some of which are:\n",
    "\n",
    "-   problems with higher derivatives,\n",
    "\n",
    "-   systems of ordinary differential equations,\n",
    "\n",
    "-   boundary value problems, and\n",
    "\n",
    "-   partial differential equations.\n",
    "\n",
    "6.1 Higher Derivatives\n",
    "------------------\n",
    "\n",
    "Many problems in physics involve derivatives of second order and higher.\n",
    "Discretization of these derivatives is no more difficult than the first\n",
    "derivative in the previous section. The difference formula for the\n",
    "second derivative, which will be derived in Lab \\#2, is given by\n",
    "\n",
    "<div id='lab1:eq:centered-diff2'>\n",
    "$$y^{\\prime\\prime}(t_i) \\approx \n",
    "  \\frac{y(t_{i+1})-2y(t_i)+y(t_{i-1})}{(\\Delta t)^2} ,$$\n",
    "</div>\n",
    "\n",
    "and is called the *second-order\n",
    "centered difference formula* for the second derivative (“centered”,\n",
    "because it involves the three points centered about $t_i$, and\n",
    "“second-order” for reasons we will see in the next Lab). We will apply\n",
    "this formula in the following example …"
   ]
  },
  {
   "cell_type": "markdown",
   "metadata": {},
   "source": [
    "*Example Eight*\n",
    "--------------\n",
    "[lab1:exm:balloon]: <#Example-Eight>\n",
    "\n",
    "> A weather balloon, filled with helium, climbs\n",
    "vertically until it reaches its level of neutral buoyancy, at which\n",
    "point it begins to oscillate about this equilibrium height. We can\n",
    "derive a DE describing the motion of the balloon by applying Newton’s\n",
    "second law: $$mass \\; \\times \\; acceleration = force$$\n",
    "$$m \\frac{d^2 y}{d t^2} = \n",
    "      \\underbrace{- \\beta \\frac{dy}{dt}}_{\\mbox{air resistance}} \n",
    "      \\underbrace{- \\gamma y}_{\\mbox{buoyant force}},$$ where\n",
    "\n",
    "> -   $y(t)$ is the displacement of the balloon vertically from its\n",
    "    equilibrium level, $y=0$;\n",
    "\n",
    "> -   $m$ is the mass of the balloon and payload;\n",
    "\n",
    "> -   the oscillations are assumed small, so that we can assume a linear\n",
    "    functional form for the buoyant force, $-\\gamma y$.\n",
    "\n",
    "> This problem also requires initial values for both the initial\n",
    "displacement and velocity:\n",
    "$$y(0) = y_0 \\;\\; \\mbox{and} \\;\\; \\frac{dy}{dt}(0) = v_0.$$\n",
    "\n",
    "> <div id='lab1:fig:balloon'>\n",
    "![A weather balloon oscillating about its level of neutral\n",
    "buoyancy.](balloon/balloon.png)\n",
    "Figure Nine, Weather Balloon: A weather balloon oscillating about its level of neutral\n",
    "buoyancy.\n",
    "</div>"
   ]
  },
  {
   "cell_type": "markdown",
   "metadata": {},
   "source": [
    "*Problem One*\n",
    "------------\n",
    "[lab1:prob:osc]: (#Problem-One)\n",
    "\n",
    "> -   a\\) Using the centered difference formula  for the second derivative, and\n",
    "    the forward difference formula  for the first derivative at the point\n",
    "    $t_i$, derive a difference scheme for $y_{i+1}$, the vertical\n",
    "    displacement of the weather balloon.\n",
    "\n",
    ">-   b\\) What is the difference between this scheme and the forward Euler\n",
    "    scheme from Example [Seven](http://localhost:8888/notebooks/Lab%201.ipynb#Example-Seven] , *Fix Link* related to the initial\n",
    "    conditions? (**Hint:** think about starting values …)\n",
    "\n",
    ">-   c\\) Given the initial values above, explain how to start the numerical\n",
    "    integration."
   ]
  },
  {
   "cell_type": "code",
   "execution_count": null,
   "metadata": {
    "collapsed": true
   },
   "outputs": [],
   "source": []
  }
 ],
 "metadata": {
  "kernelspec": {
   "display_name": "Python 3",
   "language": "python",
   "name": "python3"
  },
  "language_info": {
   "codemirror_mode": {
    "name": "ipython",
    "version": 3
   },
   "file_extension": ".py",
   "mimetype": "text/x-python",
   "name": "python",
   "nbconvert_exporter": "python",
   "pygments_lexer": "ipython3",
   "version": "3.4.3"
  }
 },
 "nbformat": 4,
 "nbformat_minor": 0
}
