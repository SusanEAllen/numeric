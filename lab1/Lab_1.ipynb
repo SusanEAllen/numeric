{
 "cells": [
  {
   "cell_type": "markdown",
   "metadata": {},
   "source": [
    "Laboratory #1: An Introduction to the Numerical Solution of Differential Equations: Discretization\n",
    "=============================================\n",
    "\n",
    "John M. Stockie"
   ]
  },
  {
   "cell_type": "markdown",
   "metadata": {},
   "source": [
    "Contents\n",
    "=====\n",
    "\n",
    "- [List of Problems](#List-of-Problems)\n",
    "- [1. Objectives](#1.-Objectives)\n",
    "- [2. Readings](#2.-Readings)\n",
    "- [3. Introduction](#3.-Introduction)\n",
    "  * [3.1 Ordinary Differential Equations](#3.1-Ordinary-Differential-Equations)\n",
    "  * [3.2 Partial Differential Equations](#3.2-Partial-Differential-Equations)\n",
    "- [4. Discretization](#4.-Discretization)\n",
    "- [5. Difference Approximations to the First Derivative](#5.-Difference-Approximations-to-the-First-Derivative)\n",
    "  * [5.1 Forward Euler Method](#5.1-Forward-Euler-Method)\n",
    "  * [5.2 Other Approximations](#5.2-Other-Approximations)\n",
    "- [6. Generalizations](#6.-Generalizations)\n",
    "  * [6.1 Higher Derivatives](#6.1-Higher-Derivatives)\n",
    "  * [6.2 Systems of First-order ODE's](#6.2-Systems-of-First-order-ODE's)\n",
    "  * [6.3 Boundary Value Problems](#6.3-Boundary-Value-Problems)\n",
    "  * [6.4 Partial Differential Equations](#6.4-Partial-Differential-Equations)\n",
    "- [Mathematical Notes](#Mathematical-Notes)\n",
    "  * [Solution to the Heat Conduction Equation](#Solution-to-the-Heat-Conduction-Equation)\n",
    "- [References](#References)\n",
    "- [Glossary](#Glossary)\n",
    "\n",
    "\n"
   ]
  },
  {
   "cell_type": "markdown",
   "metadata": {},
   "source": [
    "List of Problems\n",
    "=========\n",
    "- [Problem One](#Problem-One)\n",
    "- [Problem Two](#Problem-Two)"
   ]
  },
  {
   "cell_type": "markdown",
   "metadata": {},
   "source": [
    "1. Objectives\n",
    "==========\n",
    "\n",
    "The examples and exercises in this lab are meant to illustrate the\n",
    "limitations of analytical solution techniques, using several\n",
    "differential equation models for simple physical systems. This is the\n",
    "prime motivation for the use of numerical methods.\n",
    "\n",
    "After completing this lab, you will understand the process of\n",
    "*discretizing* a continuous problem, and be able to derive a simple\n",
    "finite difference approximation for an ordinary or partial differential\n",
    "equation. The examples will also introduce the concepts of *accuracy*\n",
    "and *stability*, which will be discussed further in Lab 2.\n",
    "\n",
    "Specifically you will be able to:\n",
    "\n",
    "-   Define the term or identify: Ordinary Differential Equation, Partial\n",
    "    Differential Equation, Linear equation, Non-linear equation, Initial\n",
    "    value problem, Boundary value problem, Open Domain, and Closed\n",
    "    Domain.\n",
    "\n",
    "-   Define the term, identify or perform: Forward difference\n",
    "    discretization, Backward difference discretization, and Centre\n",
    "    difference discretization.\n",
    "\n",
    "-   Define the term: Interpolation, Convergence, and Instability.\n",
    "\n",
    "-   Define the term or perform: Linear interpolation.\n"
   ]
  },
  {
   "cell_type": "markdown",
   "metadata": {},
   "source": [
    "2. Readings\n",
    "========\n",
    "\n",
    "There is no required reading for this lab, beyond the contents of the\n",
    "lab itself. However, if you would like additional background on any of\n",
    "the following topics, then refer to the sections indicated below:\n",
    "\n",
    "-   <span>**Differential Equations:**</span>\n",
    "\n",
    "    -    [Strang (1986)](#Ref:Strang), Chapter 6 (ODE’s).\n",
    "\n",
    "    -    [Boyce and DiPrima (1986)](#Ref:BoyceDiPrima) (ODE’s and PDE’s).\n",
    "\n",
    "-   <span>**Numerical Methods:**</span>\n",
    "\n",
    "    -    [Strang (1986)](#Ref:Strang), Section 5.1.\n",
    "\n",
    "    -    [Garcia (1994)](#Ref:Garcia), Sections 1.4–1.5, Chapter 2 (a basic introduction to\n",
    "        numerical methods for problems in physics).\n",
    "\n",
    "    -    [Boyce and DiPrima (1986)](#Ref:BoyceDiPrima), Sections 8.1–8.5, 8.7, 8.8."
   ]
  },
  {
   "cell_type": "markdown",
   "metadata": {},
   "source": [
    "*Running Code Cells*\n",
    "-------------------\n",
    "\n",
    "The next cell in this notebook is a code cell.  Run it by selecting it and hitting ctrl enter, or by selecting it and hitting the run button (arrow to right) in the notebook controls."
   ]
  },
  {
   "cell_type": "code",
   "execution_count": 5,
   "metadata": {
    "collapsed": false
   },
   "outputs": [],
   "source": [
    "# import plotting package and numerical python package for use in examples later\n",
    "import matplotlib.pyplot as plt\n",
    "# make the plots happen inline\n",
    "% matplotlib inline  \n",
    "# import the numpy array handling library\n",
    "import numpy as np\n",
    "# import the quiz script\n",
    "from numlabs.lab1 import quiz1 as quiz"
   ]
  },
  {
   "cell_type": "markdown",
   "metadata": {},
   "source": [
    "3. Introduction: Why bother with numerical methods?\n",
    "================================================\n",
    "[lab1:sec:intro]: <#3-Introduction:-Why-bother-with-numerical-methods?> \"Intro\"\n",
    "\n",
    "In introductory courses in ordinary and partial differential equations\n",
    "(ODE’s and PDE’s), many analytical techniques are introduced for\n",
    "deriving solutions. These include the methods of undetermined\n",
    "coefficients, variation of parameters, power series, Laplace transforms,\n",
    "separation of variables, Fourier series, and phase plane analysis, to\n",
    "name a few. When there are so many analytical tools available, one is\n",
    "led to ask:\n",
    "\n",
    "> *Why bother with numerical methods at all?*\n",
    "\n",
    "The fact is that the class of problems that can be solved analytically\n",
    "is *very small*. Most differential equations that model physical\n",
    "processes cannot be solved explicitly, and the only recourse available\n",
    "is to use a numerical procedure to obtain an approximate solution of the\n",
    "problem.\n",
    "\n",
    "Furthermore, even if the equation can be integrated to obtain a closed\n",
    "form expression for the solution, it may sometimes be much easier to\n",
    "approximate the solution numerically than to evaluate it analytically.\n",
    "\n",
    "In the following two sections, we introduce two classical physical\n",
    "models, seen in most courses in differential equations. Analytical\n",
    "solutions are given for these models, but then seemingly minor\n",
    "modifications are made which make it difficult (if not impossible) to\n",
    "calculate actual solution values using analytical techniques. The\n",
    "obvious alternative is to use numerical methods."
   ]
  },
  {
   "cell_type": "markdown",
   "metadata": {},
   "source": [
    "3.1 Ordinary Differential Equations\n",
    "---------------------------------\n",
    "<!--- {#lab1:sec:odes} -->\n",
    "[lab1:sec:odes]: <#3.1-Ordinary-Differential-Equations> \"ODES\"\n",
    "\n",
    "In order to demonstrate the usefulness of numerical methods, let’s start\n",
    "by looking at an example of a *first-order initial value problem* (or\n",
    "*IVP*). In their most general form, these equations look like\n",
    "\n",
    "<div id='lab1:eq:modelode'>\n",
    "(Model ODE)\n",
    "$$\\begin{array}{c}\n",
    "    {\\displaystyle \\frac{dy}{dt} = f(y,t),} \\\\\n",
    "    \\; \\\\\n",
    "    y(0) = y_0, \n",
    "  \\end{array}$$\n",
    "</div>\n",
    "\n",
    "where\n",
    "\n",
    "-   $t$ is the *independent variable* (in many physical systems, which\n",
    "    change in time, $t$ represents time);\n",
    "\n",
    "-   $y(t)$ is the unknown quantity (or *dependent variable*) that we\n",
    "    want to solve for;\n",
    "\n",
    "-   $f(y,t)$ is a known function that can depend on both $y$ and $t$;\n",
    "    and\n",
    "\n",
    "-   $y_0$ is called the *initial value* or *initial condition*, since it\n",
    "    provides a value for the solution at an initial time, $t=0$ (the\n",
    "    initial value is required so that the problem has a unique\n",
    "    solution).\n",
    "\n",
    "This problem involves the first derivative of the solution, and also\n",
    "provides an initial value for $y$, and hence the name “first-order\n",
    "initial value problem”.\n",
    "\n",
    "Under certain very general conditions on the right hand side function\n",
    "$f$, we know that there will be a unique solution to the problem ([Model ODE](#lab1:eq:modelode)).\n",
    "However, only in very special cases can we actually write down a\n",
    "closed-form expression for the solution.\n",
    "\n",
    "In the remainder of this section, we will leave the general equation,\n",
    "and investigate a specific example related to heat conduction. It will\n",
    "become clear that it is the problems which *do not have exact solutions*\n",
    "which are the most interesting or meaningful from a physical standpoint."
   ]
  },
  {
   "cell_type": "markdown",
   "metadata": {},
   "source": [
    "*Example One*\n",
    "------------\n",
    "<!--- {#lab1:exm:conduction} -->\n",
    "[lab1:exm:conduction]: <#Example-One> \"Example 1\"\n",
    "\n",
    "> Consider a small rock, surrounded by air or water,\n",
    "which gains or loses heat only by conduction with its surroundings\n",
    "(there are no radiation effects). If the rock is small enough, then we\n",
    "can ignore the effects of diffusion of heat within the rock, and\n",
    "consider only the flow of heat through its surface, where the rock\n",
    "interacts with the surrounding medium.\n",
    "\n",
    "> It is well known from experimental observations that the rate at which\n",
    "the temperature of the rock changes is proportional to the difference\n",
    "between the rock’s surface temperature, $T(t)$, and the *ambient\n",
    "temperature*, $T_a$ (the ambient temperature is simply the temperature\n",
    "of the surrounding material, be it air, water, …). This relationship is\n",
    "expressed by the following ordinary differential equation\n",
    "<div id='lab1:eq:conduction1d'>\n",
    "(Conduction 1d)\n",
    "$$%    \\textcolor[named]{Red}{\\frac{dT}{dt}} = -\\lambda \\,\n",
    "%    \\textcolor[named]{Blue}{(T-T_a)} .\n",
    "    \\underbrace{\\frac{dT}{dt}}_{\\begin{array}{c} \n",
    "                                \\mbox{rate of change}\\\\\n",
    "                                \\mbox{of temperature}\n",
    "                                \\end{array}}\n",
    "    = -\\lambda \\underbrace{(T-T_a)}_{\\begin{array}{c} \n",
    "                                \\mbox{temperature}\\\\\n",
    "                                \\mbox{difference}\n",
    "                                \\end{array}} .$$\n",
    "</div>\n",
    "    \n",
    ">and is commonly known as *Newton’s\n",
    "Law of Cooling*. (The parameter $\\lambda$ is defined to be\n",
    "$\\lambda = \\mu A/cM$, where $A$ is the surface area of the rock, $M$ is\n",
    "its mass, $\\mu$ its thermal conductivity, and $c$ its specific heat.)"
   ]
  },
  {
   "cell_type": "markdown",
   "metadata": {},
   "source": [
    "Quiz on Newton's Law of Cooling \n",
    "--------------\n",
    "\n",
    "$\\lambda$ is positive? True or False?\n",
    "\n",
    "In the following, replace 'xxxx' by 'True', 'False', 'Hint 1' or 'Hint 2' and run the cell ([how to](#Running-Code-Cells))"
   ]
  },
  {
   "cell_type": "code",
   "execution_count": 19,
   "metadata": {
    "collapsed": false
   },
   "outputs": [
    {
     "name": "stdout",
     "output_type": "stream",
     "text": [
      "Acceptable answers are 'True', 'False', 'Hint 1' or 'Hint 2'\n"
     ]
    }
   ],
   "source": [
    "print (quiz.conduction_quiz(answer = 'xxxx'))"
   ]
  },
  {
   "cell_type": "markdown",
   "metadata": {},
   "source": [
    "If we assume that $\\lambda$ is a constant, then the solution to this\n",
    "equation is given by \n",
    "\n",
    "<div id='lab1:eq:conduction-soln'>\n",
    "(Conduction solution)\n",
    "$$T(t) = T_a + (T(0)-T_a)e^{-\\lambda t},$$\n",
    "</div>\n",
    "\n",
    "where $T(0)$ is the initial temperature.\n",
    "\n",
    "**Mathematical Note:** Details of the solution can be found in the [Appendix](#Solution-to-the-Heat-Conduction-Equation)\n",
    "\n",
    "\n",
    "In order to obtain realistic value of the parameter $\\lambda$, let our\n",
    "“small” rock be composed of granite, with mass of $1\\;gram$, which\n",
    "corresponds to a $\\lambda \\approx 10^{-5}\\;sec^{-1}$.\n",
    "\n",
    "Sample solution curves are given in Figure [Conduction](#lab1:fig:conduction).\n",
    "\n",
    "<div id='lab1:fig:conduction'>\n",
    "![Plot of solution curves $T(t)$ for $T_0=-10,15,20,30$; parameter\n",
    "values: $\\lambda=10^{-5}$, $T_a=20$.](conduction/conduction.png) \n",
    "Figure One, Conduction: Plot of solution curves $T(t)$ for $T_0=-10,15,20,30$; parameter\n",
    "values: $\\lambda=10^{-5}$, $T_a=20$)\n",
    "</div>"
   ]
  },
  {
   "cell_type": "markdown",
   "metadata": {},
   "source": [
    "##Demo: Conduction\n",
    "[lab1:demo:conduction]: <#Demo:-Conduction> \"Conduction Demo\"\n",
    "\n",
    "Here is an interactive example that investigates the behaviour of the solution.\n",
    "\n",
    "The first we import the function that does the calculation and plotting.  You need to run this cell ([how to](#Running-Code-Cells)) to load it.  Loading it does not run the function.  "
   ]
  },
  {
   "cell_type": "code",
   "execution_count": 20,
   "metadata": {
    "collapsed": false
   },
   "outputs": [],
   "source": [
    "from numlabs.lab1 import temperature_conduction as tc"
   ]
  },
  {
   "cell_type": "markdown",
   "metadata": {},
   "source": [
    "You need to call the function. Simpliest call is next cell. "
   ]
  },
  {
   "cell_type": "code",
   "execution_count": 21,
   "metadata": {
    "collapsed": false
   },
   "outputs": [
    {
     "data": {
      "image/png": "[encoded data removed]",
      "text/plain": [
       "<matplotlib.figure.Figure at 0x108e56198>"
      ]
     },
     "metadata": {},
     "output_type": "display_data"
    }
   ],
   "source": [
    "# simple call to temperature demo\n",
    "tc.temperature()"
   ]
  },
  {
   "cell_type": "markdown",
   "metadata": {},
   "source": [
    "After running as is try changing To = To (the initial temperature), Ta = Ta (the ambient temperature) or la = λ (the effective conductivity) to investigate changes in the solution."
   ]
  },
  {
   "cell_type": "code",
   "execution_count": 22,
   "metadata": {
    "collapsed": false
   },
   "outputs": [
    {
     "data": {
      "image/png": "[encoded data removed]",
      "text/plain": [
       "<matplotlib.figure.Figure at 0x108ee97b8>"
      ]
     },
     "metadata": {},
     "output_type": "display_data"
    }
   ],
   "source": [
    "# setting different values \n",
    "# (note this uses the defaults again as written, you should change the values)\n",
    "tc.temperature(Ta = 20, To = np.array([-10., 10., 20., 30.]), la = 0.00001)"
   ]
  },
  {
   "cell_type": "markdown",
   "metadata": {},
   "source": [
    "*Example Two*\n",
    "------------\n",
    "<!--- {#lab1:exm:conduction-nonlinear} -->\n",
    "[lab1:exm:conduction-nonlinear]: <#Example-Two> \"Example 2\"\n",
    "\n",
    "> Suppose that the rock in the previous\n",
    "example has a $\\lambda$ which is *not* constant. For example, if that\n",
    "the rock is made of a material whose specific heat varies with the\n",
    "temperature or time, then $\\lambda$ can be a function of $T$ or $t$.\n",
    "This might happen if the material composing the rock undergoes a phase\n",
    "transition at a certain critical temperature (for example, a melting ice\n",
    "pellet). The problem is now a *non-linear* one, for which analytical\n",
    "techniques may or may not provide a solution.\n",
    "\n",
    "> If $\\lambda=\\lambda(T)$, a function of temperature only, then the exact\n",
    "solution may be written as\n",
    "$$T(t) = T_a + \\exp{\\left[-\\int^{t}_{0} \\lambda(T(s))ds \\right]},$$\n",
    "which involves an integral that may or may not be evaluated\n",
    "analytically, in which case we can only approximate the integral.\n",
    "Furthermore, if $\\lambda$ is a function of both $T$ and $t$ which is\n",
    "*not separable* (cannot be written as a product of a function of $T$ and\n",
    "$t$), then we may not be able to write down a closed form for the\n",
    "solution at all, and we must resort to numerical methods to obtain a\n",
    "solution.\n",
    "\n",
    "> Even worse, suppose that we don’t know $\\lambda$ explicitly as a\n",
    "function of temperature, but rather only from experimental measurements\n",
    "of the rock (see Figure [Table](#lab1:fig:table) for an example). \n",
    "\n",
    "|    i   | Temperature ($T_i$)   |    Measured $\\lambda_i$  |\n",
    "|    -   | :------------------:  |    :-------------------: |\n",
    "|    0   |       -5.0            |       2.92 |\n",
    "|    1   |       -2.0            |       1.59 |\n",
    "|    2   |       1.0             |       1.00 |\n",
    "|    3   |       4.0             |       2.52 |\n",
    "|    4   |       7.0             |       3.66 |   \n",
    "|    5   |      10.0             |       4.64 |\n",
    "\n",
    "> <div id='lab1:fig:table'>\n",
    "![A rock with $\\lambda$ known only at a sequence of discrete temperature\n",
    "values, from experimental measurements. The function $\\lambda(T)$ can be\n",
    "represented approximately using linear interpolation (and the resulting\n",
    "approximate function can then be used to solve the problem\n",
    "numerically).](table/table-interp.png)\n",
    "Figure Two, Table: A rock with $\\lambda$ known only at a sequence of discrete temperature\n",
    "values, from experimental measurements. The function $\\lambda(T)$ can be\n",
    "represented approximately using linear interpolation (and the resulting\n",
    "approximate function can then be used to solve the problem\n",
    "numerically).\n",
    "</div>\n",
    "\n",
    ">Then there is\n",
    "no way to express the rock’s temperature as a function, and analytical\n",
    "methods fail us, since we do not know the values at points between the\n",
    "given values. One alternative is to approximate $\\lambda$ at\n",
    "intermediate points by joining successive points with straight lines\n",
    "(this is called *linear interpolation*), and then use the resulting\n",
    "function in a numerical scheme for computing the solution.\n",
    "\n",
    "As the above example demonstrates, even for a simple ODE such as [1-d conduction](#lab1:eq:conduction1d), there\n",
    "are situations where analytical methods are inadequate."
   ]
  },
  {
   "cell_type": "markdown",
   "metadata": {},
   "source": [
    "3.2 Partial Differential Equations\n",
    "------------------------------\n",
    "\n",
    "*Example Three*\n",
    "--------------\n",
    "[lab1:exm:diffusion1d]: <#Example-Three> \"Example 3\"\n",
    "\n",
    "> The rock in [Example One](#Example-One) was\n",
    "considered to be small enough that the effects of heat diffusion in the\n",
    "interior were negligible in comparison to the heat lost by conduction\n",
    "through its surface. In this example, consider a rock that is *not\n",
    "small*, and whose temperature changes are dominated by internal\n",
    "diffusion effects. Therefore, it is no longer possible to ignore the\n",
    "spatial dependence in the problem.\n",
    "\n",
    "> For simplicity, we will add spatial dependence in one direction only,\n",
    "which corresponds to a “one-dimensional rock”, or a thin rod. Assume\n",
    "that the rod is insulated along its sides, so that heat flows only along\n",
    "its length, and possibly out the ends (see Figure [Rod](#lab1:fig:rock-1d)).\n",
    "\n",
    "> <div id='lab1:fig:rock-1d'>\n",
    "![A thin rod can be thought of as a model for a one-dimensional\n",
    "rock.](conduction/rod.png)\n",
    "Figure Three, Rod: A thin rod can be thought of as a model for a one-dimensional\n",
    "rock.\n",
    "</div>\n",
    "\n",
    "> Consequently, the temperature varies only with position, $x$, and time,\n",
    "$t$, and can be written as a function $u(x,t)$. The temperature in the\n",
    "rod is governed by the following PDE $$u_t = \\alpha^2 u_{xx},$$ for\n",
    "which we have to provide an initial temperature $$u(x,0) = u_0(x),$$ and\n",
    "boundary values $$u(0,t)=u(1,t)=0,$$ where\n",
    "\n",
    "> -   $\\alpha^2$ is the *thermal diffusivity* of the material,\n",
    "\n",
    "> -   $u_0(x)$ is the initial temperature distribution in the rod, and\n",
    "\n",
    "> -   the boundary conditions indicate that the ends of the rod are held\n",
    "    at constant temperature, which we’ve assumed is zero.\n",
    "\n",
    "> Thermal diffusivity is a quantity that depends only on the material from\n",
    "which the bar is made. It is defined by\n",
    "$$\\alpha^2 = \\frac{\\kappa}{\\rho c},$$ where $\\kappa$ is the thermal\n",
    "conductivity, $\\rho$ is the density, and $c$ is the specific heat. A\n",
    "typical value of the thermal diffusivity for a granite bar is\n",
    "$0.011\\;cm^2/sec$, and $0.0038\\;cm^2/sec$ for a bar made of brick.\n",
    "\n",
    "> Using the method of *separation of variables*, we can look for a\n",
    "temperature function of the form $u(x,t)=X(x) \\cdot T(t)$, which leads\n",
    "to the infinite series solution\n",
    "$$u(x,t) = \\sum_{n=1}^\\infty b_n e^{-n^2\\pi^2\\alpha^2 t}\\sin{(n\\pi x)},$$\n",
    "where the series coefficients are\n",
    "$$b_n = 2 \\int_0^1 u_0(x) \\sin{(n\\pi x)} dx.$$\n",
    "\n",
    "> **Mathematical Note:** Details of the derivation can be found in any introductory text in PDE’s\n",
    "(for example, [Boyce and DiPrima (1986)](#Ref:BoyceDiPrima) [p. 549]).\n",
    "\n",
    "> We do manage to obtain an explicit formula for the solution, which can\n",
    "be used to calculate actual values of the solution. However, there are\n",
    "two obvious reasons why this formula is not of much practical use:\n",
    "\n",
    "> 1.  The series involves an infinite number of terms (except for very\n",
    "    special forms for the initial heat distribution … such as the one\n",
    "    shown below). We might be able to truncate the series, since each\n",
    "    term decreases exponentially in size, but it is not trivial to\n",
    "    decide how many terms to choose in order to get an accurate answer\n",
    "    and here we are already entering the realm of numerical\n",
    "    approximation.\n",
    "\n",
    "> 2.  Each term in the series requires the evaluation of an integral. When\n",
    "    these cannot be integrated analytically, we must find some way to\n",
    "    approximate the integrals … numerical analysis rears its head once\n",
    "    again!\n",
    "\n",
    "> For most physical problems, an analytical expression cannot be obtained,\n",
    "and the exact formula is not of much use.\n",
    "\n",
    "> However, consider a very special case, when the initial temperature\n",
    "distribution is sinusoidal, $$u_0(x) = \\sin(\\pi x).$$ For this problem,\n",
    "the infinite series collapses into a single term\n",
    "$$u(x,t) = e^{-\\pi^2\\alpha^2t}\\sin{\\pi x}.$$\n",
    "\n",
    "> Sample solution curves are given in Figure [1d Diffusion](#lab1:fig:diffusion-1d).\n",
    "\n",
    "> <div id='lab1:fig:diffusion-1d'>\n",
    "![Temperature vs. position curves at various times, for heat diffusion\n",
    "in a rod with sinusoidal initial temperature distribution and parameter\n",
    "value $\\alpha=0.2$.](diffusion/diffusion.png)\n",
    "Figure Four, 1d Diffusion: Plot of temperature vs. position curves at various times, for heat diffusion\n",
    "in a rod with sinusoidal initial temperature distribution and parameter\n",
    "value $\\alpha=0.2$.\n",
    "</div>\n"
   ]
  },
  {
   "cell_type": "markdown",
   "metadata": {},
   "source": [
    "##Movie: Diffusion\n",
    "Here is a movie of the exact solution to the diffusion problem. Run the cell ([how to](#Running-Code-Cells)), then run the video.  If you want to see the video again, re-run the cell.  (The video doesn't rerun properly from the wysiwyg interface)"
   ]
  },
  {
   "cell_type": "code",
   "execution_count": 10,
   "metadata": {
    "collapsed": false
   },
   "outputs": [
    {
     "data": {
      "text/html": [
       "\n",
       "        <iframe\n",
       "            width=\"800\"\n",
       "            height=\"300\"\n",
       "            src=\"https://www.youtube.com/embed/b4D2ktTtw7E?modestbranding=1&rel=0\"\n",
       "            frameborder=\"0\"\n",
       "            allowfullscreen\n",
       "        ></iframe>\n",
       "        "
      ],
      "text/plain": [
       "<IPython.lib.display.YouTubeVideo at 0x108e56588>"
      ]
     },
     "metadata": {},
     "output_type": "display_data"
    }
   ],
   "source": [
    "import IPython.display as display\n",
    "\n",
    "vid = display.YouTubeVideo(\"b4D2ktTtw7E\", modestbranding=1, rel=0, width=800)\n",
    "display.display(vid)\n"
   ]
  },
  {
   "cell_type": "markdown",
   "metadata": {},
   "source": [
    "#### Summary\n",
    "\n",
    "This section is best summed up by the insightful comment of [Strang (1986)](#Ref:Strang)\n",
    "[p. 587]:\n",
    "\n",
    "> **Nature is nonlinear.**\n",
    "\n",
    "Most problems arising in physics (which are non-linear) cannot be solved\n",
    "analytically, or result in expressions that have little practical value,\n",
    "and we must turn to numerical solution techniques."
   ]
  },
  {
   "cell_type": "markdown",
   "metadata": {
    "collapsed": true
   },
   "source": [
    "4. Discretization\n",
    "==============\n",
    "\n",
    "When computing analytical solutions to differential equations, we are\n",
    "dealing with *continuous functions*; i.e. functions that depend continuously\n",
    "on the independent variables. A computer, however, has only finite\n",
    "storage capacity, and hence there is no way to represent continuous\n",
    "data, except approximately as a sequence of *discrete* values.\n",
    "\n",
    "*Example Four*\n",
    "--------------\n",
    "> We already saw an example of a discrete function in\n",
    "Example [Two](#Example-Two) where the rate function $\\lambda$, depended on the temperature. If $\\lambda$ is not known by\n",
    "some empirical formula, then it can only be determined by experimental\n",
    "measurements at a discrete set of temperature values. In\n",
    "Figure [Table](#lab1:fig:table), $\\lambda$ is given at a sequence of six\n",
    "temperature points ($(T_i, \\lambda_i)$, for $i = 0, 1, \\dots, 5)$),\n",
    "and so is an example of a *discrete function*.\n",
    "\n",
    "> The process of interpolation, which was introduced in\n",
    "Example [Two](#Example-Two), will be considered in more\n",
    "detail next.\n",
    "\n",
    "*Example Five*\n",
    "-------------\n",
    "\n",
    "> Consider the two continuous functions\n",
    "$$f(x)=x^3-5x \\;\\; {\\rm and} \\;\\; g(x)=x^{2/3} .$$ (In fact, $g(x)$ was\n",
    "the function used to generate the values $\\lambda(T)$ in\n",
    "[Example Two](#Example-Two)).\n",
    "\n",
    "> The representation of functions using mathematical notation or graphs is\n",
    "very convenient for mathematicians, where continuous functions make\n",
    "sense. However, a computer has a limited storage capacity, and so it can\n",
    "represent a function only at a finite number of discrete points $(x, y)$.\n",
    "\n",
    "> One question that arises immediately is: *What do we do if we have to\n",
    "determine a value of the function which is not at one of the discrete\n",
    "points?* The answer to this question is to use some form of\n",
    "<span>*interpolation*</span> – namely to use an approximation procedure\n",
    "to estimate values of the function at points between the known values.\n",
    "\n",
    "> For example, linear interpolation approximates the function at\n",
    "intermediate points using the straight line segment joining the two\n",
    "neighbouring discrete points. There are other types of interpolation\n",
    "schemes that are more complicated, a few of which are:\n",
    "\n",
    ">-   quadratic interpolation: every two sucessive points are joined by a\n",
    "    quadratic polynomial.\n",
    "\n",
    ">-   cubic splines: each pair of points is joined by a cubic polynomial\n",
    "    so that the function values and first derivatives match at each\n",
    "    point.\n",
    "\n",
    ">-   Fourier series: instead of polynomials, uses a sum of $\\sin nx$ and\n",
    "    $\\cos nx$ to approximate the function (Fourier series are useful in\n",
    "    analysis, as well as spectral methods).\n",
    "\n",
    ">-   Chebyshev polynomials: another type of polynomial approximation\n",
    "    which is useful for spectral methods.\n",
    "\n",
    ">-   …many others …\n",
    "\n",
    ">For details on any of these interpolation schemes, see a numerical\n",
    "analysis text such as that by [Burden and Faires (1981)](#Ref-BurdenFaires)."
   ]
  },
  {
   "cell_type": "markdown",
   "metadata": {},
   "source": [
    "> An application of linear interpolation to discrete versions of the\n",
    "functions $f$ and $g$ is shown in Figure [f and g](#lab1:fig:discrete-f).\n",
    "\n",
    "> <div id='lab1:fig:discrete-f'>\n",
    "![The functions $f$ and $g$ are known only at discrete points. The\n",
    "function can be approximated at other values by linear interpolation,\n",
    "where straight line segments are used to join successive points.](discrete/f.png) \n",
    "![The\n",
    "functions $f$ and $g$ are known only at discrete points. The function\n",
    "can be approximated at other values by linear interpolation, where\n",
    "straight line segments are used to join successive points.](discrete/g.png)\n",
    "Figure Five, f and g: The functions $f$ and $g$ are known only at discrete points. The\n",
    "function can be approximated at other values by linear interpolation,\n",
    "where straight line segments are used to join successive points.\n",
    "</div>\n",
    "\n",
    "> Depending on the function, or number of location of the points chosen,\n",
    "the approximation may be more or less accurate. In\n",
    "Figure [f and g](#lab1:fig:discrete-f), it is not clear which function is\n",
    "approximated more accurately. In the graph of $f(x)$, the error seems to\n",
    "be fairly small throughout. However, for the function $g(x)$, the error\n",
    "is large near $x=0$, and then very small elsewhere. This problem of\n",
    "*accuracy* of discrete approximations will come up again and again in\n",
    "this course."
   ]
  },
  {
   "cell_type": "markdown",
   "metadata": {},
   "source": [
    "## Demo: Interpolation\n",
    "[lab1:demo:discrete]: <#Demo:-Interpolation> \"Interpolation Demo\"\n",
    "Here is an interactive example demonstrating the use of interpolation (linear and cubic) in approximating functions. \n",
    "\n",
    "The next cell imports a module containing two python functions that interpolate the two algebraic functions, f and g ([Figure f and g](#lab1:fig:discrete-f)).  You need to run this cells ([how to](#Running-Code-Cells)) to load them."
   ]
  },
  {
   "cell_type": "code",
   "execution_count": 24,
   "metadata": {
    "collapsed": false
   },
   "outputs": [
    {
     "ename": "ImportError",
     "evalue": "cannot import name 'interpolate'",
     "output_type": "error",
     "traceback": [
      "\u001b[0;31m---------------------------------------------------------------------------\u001b[0m",
      "\u001b[0;31mImportError\u001b[0m                               Traceback (most recent call last)",
      "\u001b[0;32m<ipython-input-24-0ec6289395be>\u001b[0m in \u001b[0;36m<module>\u001b[0;34m()\u001b[0m\n\u001b[0;32m----> 1\u001b[0;31m \u001b[0;32mfrom\u001b[0m \u001b[0mnumlabs\u001b[0m\u001b[0;34m.\u001b[0m\u001b[0mlab1\u001b[0m \u001b[0;32mimport\u001b[0m \u001b[0minterpolate\u001b[0m \u001b[0;32mas\u001b[0m \u001b[0mip\u001b[0m\u001b[0;34m\u001b[0m\u001b[0m\n\u001b[0m",
      "\u001b[0;31mImportError\u001b[0m: cannot import name 'interpolate'"
     ]
    }
   ],
   "source": [
    "from numlabs.lab1 import interpolate as ip"
   ]
  },
  {
   "cell_type": "markdown",
   "metadata": {},
   "source": [
    "Once you have loaded the module, you can call the interpolation routines as ip.interpol_f(pn) and ip.interpol_g(pn).  pn is the number of points used the interpolation.  Watch what changing pn does to the solutions."
   ]
  },
  {
   "cell_type": "code",
   "execution_count": 12,
   "metadata": {
    "collapsed": false
   },
   "outputs": [
    {
     "ename": "NameError",
     "evalue": "name 'ip' is not defined",
     "output_type": "error",
     "traceback": [
      "\u001b[0;31m---------------------------------------------------------------------------\u001b[0m",
      "\u001b[0;31mNameError\u001b[0m                                 Traceback (most recent call last)",
      "\u001b[0;32m<ipython-input-12-b4a25c7e4075>\u001b[0m in \u001b[0;36m<module>\u001b[0;34m()\u001b[0m\n\u001b[0;32m----> 1\u001b[0;31m \u001b[0mip\u001b[0m\u001b[0;34m.\u001b[0m\u001b[0minterpol_f\u001b[0m\u001b[0;34m(\u001b[0m\u001b[0;36m6\u001b[0m\u001b[0;34m)\u001b[0m\u001b[0;34m\u001b[0m\u001b[0m\n\u001b[0m",
      "\u001b[0;31mNameError\u001b[0m: name 'ip' is not defined"
     ]
    }
   ],
   "source": [
    "ip.interpol_f(6)"
   ]
  },
  {
   "cell_type": "code",
   "execution_count": 13,
   "metadata": {
    "collapsed": false
   },
   "outputs": [
    {
     "ename": "NameError",
     "evalue": "name 'ip' is not defined",
     "output_type": "error",
     "traceback": [
      "\u001b[0;31m---------------------------------------------------------------------------\u001b[0m",
      "\u001b[0;31mNameError\u001b[0m                                 Traceback (most recent call last)",
      "\u001b[0;32m<ipython-input-13-141ef5a2cc10>\u001b[0m in \u001b[0;36m<module>\u001b[0;34m()\u001b[0m\n\u001b[0;32m----> 1\u001b[0;31m \u001b[0mip\u001b[0m\u001b[0;34m.\u001b[0m\u001b[0minterpol_g\u001b[0m\u001b[0;34m(\u001b[0m\u001b[0;36m6\u001b[0m\u001b[0;34m)\u001b[0m\u001b[0;34m\u001b[0m\u001b[0m\n\u001b[0m",
      "\u001b[0;31mNameError\u001b[0m: name 'ip' is not defined"
     ]
    }
   ],
   "source": [
    "ip.interpol_g(6)"
   ]
  },
  {
   "cell_type": "markdown",
   "metadata": {},
   "source": [
    "Interpolation Quiz \n",
    "--------------\n",
    "\n",
    " The accuracy of an approximation using\n",
    "linear or cubic interpolation improves as the number of points is\n",
    "increased.  True or False?\n",
    "\n",
    "In the following, replace 'xxxx' by 'True', 'False', or 'Hint'"
   ]
  },
  {
   "cell_type": "code",
   "execution_count": 14,
   "metadata": {
    "collapsed": false
   },
   "outputs": [
    {
     "ename": "NameError",
     "evalue": "name 'quiz1' is not defined",
     "output_type": "error",
     "traceback": [
      "\u001b[0;31m---------------------------------------------------------------------------\u001b[0m",
      "\u001b[0;31mNameError\u001b[0m                                 Traceback (most recent call last)",
      "\u001b[0;32m<ipython-input-14-809f58c18f3f>\u001b[0m in \u001b[0;36m<module>\u001b[0;34m()\u001b[0m\n\u001b[0;32m----> 1\u001b[0;31m \u001b[0mprint\u001b[0m \u001b[0;34m(\u001b[0m\u001b[0mquiz1\u001b[0m\u001b[0;34m.\u001b[0m\u001b[0minterpolation_quiz\u001b[0m\u001b[0;34m(\u001b[0m\u001b[0manswer\u001b[0m \u001b[0;34m=\u001b[0m \u001b[0;34m'xxxx'\u001b[0m\u001b[0;34m)\u001b[0m\u001b[0;34m)\u001b[0m\u001b[0;34m\u001b[0m\u001b[0m\n\u001b[0m",
      "\u001b[0;31mNameError\u001b[0m: name 'quiz1' is not defined"
     ]
    }
   ],
   "source": [
    "print (quiz1.interpolation_quiz(answer = 'xxxx'))"
   ]
  },
  {
   "cell_type": "markdown",
   "metadata": {},
   "source": [
    "When solving differential equations numerically, it is essential to\n",
    "reduce the continuous problem to a discrete one. The basic idea is to\n",
    "look for an approximate solution, which is defined at a finite number of\n",
    "discrete points. This set of points is called a *grid*. Consider the\n",
    "one-dimensional conduction problem of Example [One, Conduction](#Example-One),\n",
    "which in its most general form reads\n",
    "\n",
    "<div id='lab1:eq:conduction'>\n",
    "(Conduction Equation)\n",
    "    $$\\frac{dT}{dt} = -\\lambda(T,t) \\, (T-T_a),$$\n",
    "</div>\n",
    "\n",
    "  with initial temperature $T(0)$.\n",
    "\n",
    "When we say we want to design a numerical procedure for solving this\n",
    "initial value problem, what we want is a procedure for constructing a\n",
    "sequence of approximations,\n",
    "$$T_0, \\, T_1, \\, \\ldots, \\, T_i, \\, \\ldots,$$ defined at a set of\n",
    "discrete $t$-points, $$t_0<t_1 < \\cdots <t_i < \\cdots$$ Each $T_i$ is an\n",
    "approximation of the actual temperature at $t_i$; that is\n",
    "$$T_i \\approx T(t_i).$$ For now, we will consider equally-spaced points,\n",
    "each of which is separated by a distance $\\Delta t$, so that $$t_i=t_0+i \\Delta t .$$\n",
    "An example of such a grid is shown in Figure [Six, Grid](#lab1:fig:discrete-points).\n",
    "\n",
    "<div id='lab1:fig:discrete-points'>\n",
    "![A grid of equally-spaced points, $t_i=t_0+i\\Delta t$, for $i=0,1,2,\\ldots$.](discrete/grid.png)\n",
    "Figure Six, Grid: A grid of equally-spaced points, $t_i=t_0+i\\Delta t$, for $i=0,1,2,\\ldots$.\n",
    "</div>\n",
    "\n",
    "This process of reducing a continuous problem to one in a finite number\n",
    "of discrete unknowns is called *discretization*. The actual mechanics of\n",
    "discretizing differential equations are introduced in the following\n",
    "section."
   ]
  },
  {
   "cell_type": "markdown",
   "metadata": {},
   "source": [
    "Discretization Quiz \n",
    "--------------\n",
    "\n",
    "What phrase best describes \"discretization\"?\n",
    "\n",
    "**A** The development and analysis of methods for the\n",
    "solution of mathematical problems on a computer.\n",
    "\n",
    "**B** The process of replacing continuous functions by\n",
    "discrete values.\n",
    "\n",
    "**C** Employing the discrete Fourier transform to analyze the\n",
    "stability of a numerical scheme.\n",
    "\n",
    "**D** The method by which one can reduce an initial value\n",
    "problem to a set of discrete linear equations that can be solved on a\n",
    "computer. \n",
    "\n",
    "In the following, replace 'x' by 'A', 'B', 'C', 'D' or 'Hint'"
   ]
  },
  {
   "cell_type": "code",
   "execution_count": 15,
   "metadata": {
    "collapsed": false
   },
   "outputs": [
    {
     "ename": "NameError",
     "evalue": "name 'quiz1' is not defined",
     "output_type": "error",
     "traceback": [
      "\u001b[0;31m---------------------------------------------------------------------------\u001b[0m",
      "\u001b[0;31mNameError\u001b[0m                                 Traceback (most recent call last)",
      "\u001b[0;32m<ipython-input-15-bc06cd9b5e8d>\u001b[0m in \u001b[0;36m<module>\u001b[0;34m()\u001b[0m\n\u001b[0;32m----> 1\u001b[0;31m \u001b[0mprint\u001b[0m \u001b[0;34m(\u001b[0m\u001b[0mquiz1\u001b[0m\u001b[0;34m.\u001b[0m\u001b[0mdiscretization_quiz\u001b[0m\u001b[0;34m(\u001b[0m\u001b[0manswer\u001b[0m \u001b[0;34m=\u001b[0m \u001b[0;34m'x'\u001b[0m\u001b[0;34m)\u001b[0m\u001b[0;34m)\u001b[0m\u001b[0;34m\u001b[0m\u001b[0m\n\u001b[0m",
      "\u001b[0;31mNameError\u001b[0m: name 'quiz1' is not defined"
     ]
    }
   ],
   "source": [
    "print (quiz1.discretization_quiz(answer = 'x'))"
   ]
  },
  {
   "cell_type": "markdown",
   "metadata": {},
   "source": [
    "#### Summary\n",
    "\n",
    "The basic idea in this section is that continuous functions can be\n",
    "approximated by discrete ones, through the process of\n",
    "*discretization*. In the course of looking at discrete\n",
    "approximations in the interactive example, we introduced the idea of the\n",
    "*accuracy* of an approximation, and showed that increasing the accuracy\n",
    "of an approximation is not straightforward.\n",
    "\n",
    "We introduced the notation for approximate solutions to differential\n",
    "equations on a grid of points. The mechanics of discretization as they\n",
    "apply to differential equations, will be investigated further in the\n",
    "remainder of this Lab, as well as in Lab Two."
   ]
  },
  {
   "cell_type": "markdown",
   "metadata": {},
   "source": [
    "5. Difference Approximations to the First Derivative\n",
    "=================================================\n",
    "<!--- {#lab1:sec:diff-first-deriv} --->\n",
    "[lab1:sec:diff-first-deriv]: <#5-Difference-Approximations-to-the-First-Derivative> \"First Difference Approximation\"\n",
    "\n",
    "It only remains to write a discrete version of the differential equation ([Conduction Equation](#lab1:eq:conduction))\n",
    "involving the approximations $T_i$. The way we do this is to approximate\n",
    "the derivatives with *finite differences*. If this term is new to you,\n",
    "then you can think of it as just another name for a concept you have\n",
    "already seen in calculus. Remember the *definition of the derivative of\n",
    "a function $y(t)$*, where $y^\\prime(t)$ is written as a limit of a\n",
    "divided difference:\n",
    "\n",
    "<div id='lab1:eq:defn-deriv'>\n",
    "(limit definition of derivative)\n",
    "$$y^\\prime(t) = \\lim_{\\Delta t\\rightarrow 0} \\frac{y(t+\\Delta t)-y(t)}{\\Delta t}.\n",
    "  $$ \n",
    "</div>\n",
    "\n",
    "  We can apply the same idea to approximate\n",
    "the derivative $dT/dt=T^\\prime$ in ([Conduction Equation](#lab1:eq:conduction)) by the *forward difference formula*,\n",
    "using the discrete approximations, $T_i$:\n",
    "\n",
    "<div id='lab1:eq:forward-diff'>\n",
    "(Forward Difference Formula)\n",
    "$$T^\\prime(t_i) \\approx \\frac{T_{i+1}-T_i}{\\Delta t}.$$\n",
    "</div>\n",
    "\n",
    "*Example Six*\n",
    "------------\n",
    "\n",
    "> In order to understand the ability of the formula ([Forward Difference Formula](#lab1:eq:forward-diff)) to approximate the\n",
    "derivative, let’s look at a specific example. Take the function\n",
    "$y(x)=x^3-5x$, and apply the forward difference formula at the point\n",
    "$x=1$. The function and its tangent line (the short line segment with\n",
    "slope $y^\\prime(1)$) are displayed in Figure [Seven, Tangents](#lab1:fig:deriv).\n",
    "\n",
    "> <div id='lab1:fig:deriv'>\n",
    "![Plot of the function $y=x^3-5x$ and the forward difference\n",
    "approximations to the derivative for various values of $\\Delta t$](deriv/deriv.png)\n",
    "Figure Seven, Tangents: Plot of the function $y=x^3-5x$ and the forward difference\n",
    "approximations to the derivative for various values of $\\Delta t$\n",
    "</div>\n",
    "\n",
    "> Each of the remaining line segments represents the forward difference\n",
    "approximation to the tangent line for different values of $\\Delta t$, which are\n",
    "simply *the secant lines through the points $(t, y(t))$ and\n",
    "$(t+\\Delta t, y(t+\\Delta t))$*. Notice that the approximation improves as $\\Delta t$ is\n",
    "reduced. This motivates the idea that grid refinement improves the\n",
    "accuracy of the discretization …but not always (as we will see in the\n",
    "coming sections)."
   ]
  },
  {
   "cell_type": "markdown",
   "metadata": {},
   "source": [
    "## Investigation\n",
    "\n",
    "Investigate the use of the forward difference approximation of the derivative in the following interactive example.  \n",
    "\n",
    "The next cell loads a python function that plots a function f(x) and approximates its derivative at $x=1$ based on a second x-point that you chose (xb).  You need to run this cell ([how to](#Running-Code-Cells)) to load it."
   ]
  },
  {
   "cell_type": "code",
   "execution_count": 16,
   "metadata": {
    "collapsed": false
   },
   "outputs": [
    {
     "ename": "ImportError",
     "evalue": "No module named 'derivative_approx'",
     "output_type": "error",
     "traceback": [
      "\u001b[0;31m---------------------------------------------------------------------------\u001b[0m",
      "\u001b[0;31mImportError\u001b[0m                               Traceback (most recent call last)",
      "\u001b[0;32m<ipython-input-16-dea2d58f2ea0>\u001b[0m in \u001b[0;36m<module>\u001b[0;34m()\u001b[0m\n\u001b[0;32m----> 1\u001b[0;31m \u001b[0;32mimport\u001b[0m \u001b[0mderivative_approx\u001b[0m \u001b[0;32mas\u001b[0m \u001b[0mda\u001b[0m\u001b[0;34m\u001b[0m\u001b[0m\n\u001b[0m",
      "\u001b[0;31mImportError\u001b[0m: No module named 'derivative_approx'"
     ]
    }
   ],
   "source": [
    "import derivative_approx as da"
   ]
  },
  {
   "cell_type": "markdown",
   "metadata": {},
   "source": [
    "Once you have loaded the function you can call it as da.plot_secant(xb) where xb the second point used to estimate the derivative (slope) at $x=1$.  You can compare the slope of the estimate (straight line) to the slope of the function (blue curve)."
   ]
  },
  {
   "cell_type": "code",
   "execution_count": 18,
   "metadata": {
    "collapsed": false
   },
   "outputs": [
    {
     "ename": "NameError",
     "evalue": "name 'da' is not defined",
     "output_type": "error",
     "traceback": [
      "\u001b[0;31m---------------------------------------------------------------------------\u001b[0m",
      "\u001b[0;31mNameError\u001b[0m                                 Traceback (most recent call last)",
      "\u001b[0;32m<ipython-input-18-af3ad0e2a9b3>\u001b[0m in \u001b[0;36m<module>\u001b[0;34m()\u001b[0m\n\u001b[0;32m----> 1\u001b[0;31m \u001b[0mda\u001b[0m\u001b[0;34m.\u001b[0m\u001b[0mplot_secant\u001b[0m\u001b[0;34m(\u001b[0m\u001b[0;36m2.\u001b[0m\u001b[0;34m)\u001b[0m\u001b[0;34m\u001b[0m\u001b[0m\n\u001b[0m",
      "\u001b[0;31mNameError\u001b[0m: name 'da' is not defined"
     ]
    }
   ],
   "source": [
    "da.plot_secant(2.)"
   ]
  },
  {
   "cell_type": "markdown",
   "metadata": {},
   "source": [
    "5.1 Forward Euler Method\n",
    "--------------------\n",
    "<!--- #lab1:sec:forward-euler} --->\n",
    "[lab1:sec:forward-euler]: <#5.1-Forward-Euler-Method\"\n",
    "\n",
    "We can now write down a discrete version of our model ODE problem ([Conduction Equation](#lab1:eq:conduction)) at any\n",
    "point $t_i$ by\n",
    "\n",
    "1.  discretizing the derivative on the left hand side (for example,\n",
    "    using the forward difference approximation ([Forward Difference Formula](#lab1:eq:forward-diff));\n",
    "\n",
    "2.  evaluating the right hand side function at the discrete point $t_i$.\n",
    "\n",
    "The discrete form of the problem is\n",
    "\n",
    "$$\\frac{T_{i+1}-T_i}{\\Delta t} = \\lambda(T_i,t_i) \\, (T_i-T_a),$$ or, after\n",
    "rearranging, \n",
    "\n",
    "<div id='lab1:eq:forward-euler-conduction'>\n",
    "$$T_{i+1} = T_i + \\Delta t \\, \\lambda(T_i,t_i) \\, (T_i-T_a).$$ \n",
    "</div>\n",
    "\n",
    "This formula is called the\n",
    "*Forward Euler method* (since it uses forward differences). Notice that\n",
    "this formula relates each discrete solution value to the solution at the\n",
    "preceding $t$-point. Consequently, if we are given an initial value\n",
    "$T(0)$, then all subsequent values of the solution are easily computed.\n",
    "\n",
    "(**Note:** The forward Euler formula for the more general\n",
    "first-order IVP in ([Model ODE](#lab1:eq:modelode')) is simply $y_{i+1} = y_i + \\Delta t f(y_i,t_i)$.)\n",
    "\n",
    "*Example Seven*\n",
    "--------------\n",
    "[lab1:exm:saturation]: (#Example-Seven\")\n",
    "\n",
    "> Let us now turn to another example in atmospheric\n",
    "physics to illustrate the use of the forward Euler method. Consider the\n",
    "process of condensation and evaporation in a cloud. The *saturation\n",
    "ratio*, $S$, is the ratio of the vapour pressure to the vapour pressure\n",
    "of a plane surface of water at temperature $T$. $S$ varies in time\n",
    "according to the \n",
    "\n",
    "> <div id='lab1:eq:saturation'>\n",
    "(saturation development equation)\n",
    "$$\\frac{dS}{dt} = \\alpha S^2 + \\beta S + \\gamma,$$ \n",
    "</div>\n",
    "\n",
    "> where $\\alpha$, $\\beta$ and $\\gamma$\n",
    "are complicated (but constant) expressions involving the physical\n",
    "parameters in the problem (and so we won’t reproduce them here).\n",
    "\n",
    "> What are some physically reasonable values of the parameters (other than\n",
    "simply $\\alpha<0$ and $\\gamma>0$)?\n",
    "\n",
    "> [Chen (1994)](#Ref:Chen) gives a detailed derivation of the equation, which is a\n",
    "non-linear, first order ODE (i.e. non-linear in the dependent variable $S$,\n",
    "and it contains only a first derivative in the time variable). Chen also\n",
    "derives an analytical solution to the problem which takes a couple pages\n",
    "of messy algebra to come to. Rather than show these details, we would\n",
    "like to use the forward Euler method in order to compute the solution\n",
    "numerically, and as we will see, this is actually quite simple."
   ]
  },
  {
   "cell_type": "markdown",
   "metadata": {},
   "source": [
    "> Using the ([forward difference formula](#lab1:eq:forward-diff)), the discrete form of the ([saturation development equation](#lab1:eq:saturation))  is\n",
    "$$S_{i+1} = S_i + \\Delta t \\left( \\alpha S_i^2 + \\beta S_i +\n",
    "    \\gamma \\right).$$ Consider an initial saturation ratio of $0.98$,\n",
    "and take parameter values $\\alpha=-1$, $\\beta=1$ and $\\gamma=1$. The\n",
    "resulting solution, for various values of the time step $\\Delta t$,is plotted in\n",
    "Figure [Eight, Saturation Time Series](#lab1:fig:saturation).\n",
    "\n",
    "> <div id='lab1:fig:saturation'>\n",
    "![Plot of the saturation ratio as a function of time using the Forward\n",
    "Euler method. “” is the number of time steps.](feuler/sat2.png)\n",
    "Figure Eight, Saturation Time Series: Plot of the saturation ratio as a function of time using the Forward\n",
    "Euler method. “nt” is the number of time steps.\n",
    "</div>"
   ]
  },
  {
   "cell_type": "markdown",
   "metadata": {},
   "source": [
    "> There are two things to notice here, both related to the importance of\n",
    "the choice of time step $\\Delta t$:\n",
    "\n",
    "> -   As $\\Delta t$ is reduced, the solution appears to *converge* to one solution\n",
    "    curve, which we would hope is the exact solution to the differential\n",
    "    equation. An important question to ask is: *When will the numerical\n",
    "    method converge to the exact solution as $\\Delta t$ is reduced?*\n",
    "\n",
    "> -   If $\\Delta t$ is taken too large, however, the numerical solution breaks down.\n",
    "    In the above example, the oscillations that occur for the largest\n",
    "    time step (when $nt=6$) are a sign of <span>*numerical\n",
    "    instability*</span>. The differential problem is stable and exhibits\n",
    "    no such behaviour, but the numerical scheme we have used has\n",
    "    introduced an instability. An obvious question that arises is: *How\n",
    "    can we avoid introducing instabilities in a numerical scheme?*\n",
    "\n",
    "> Neither question has an obvious answer, and both issues will be\n",
    "investigated further in Lab 2."
   ]
  },
  {
   "cell_type": "markdown",
   "metadata": {},
   "source": [
    "5.2 Other Approximations\n",
    "--------------------\n",
    "\n",
    "Look again at the ([limit definition of derivative](#lab1:eq:defn-deriv)), and notice that an\n",
    "equivalent expression for $T^\\prime$ is\n",
    "\n",
    "<div id='lab1:eq:defn-back'>\n",
    "$$T^\\prime(t) = \\lim_{\\Delta t\\rightarrow 0} \\frac{T(t)-T(t-\\Delta t)}{\\Delta t}.$$ \n",
    "</div>  \n",
    "  \n",
    "From this, we can derive the *backward\n",
    "difference formula* for the first derivative,\n",
    "\n",
    "<div id='lab1:eq:backward-diff'>\n",
    "(Backward Difference Formula)\n",
    "$$T^\\prime(t_i) \\approx \\frac{T_i-T_{i-1}}{\\Delta t},$$ \n",
    "</div>\n",
    "\n",
    "and similarly the *centered difference formula* \n",
    "\n",
    "<div id='lab1:eq:centered-diff'>\n",
    "(Centered Difference Formula)\n",
    "$$T^\\prime(t_i) \\approx \\frac{T_{i+1}-T_{i-1}}{2 \\Delta t}.$$\n",
    "</div>\n",
    "\n",
    "The corresponding limit formulas are equivalent from a mathemtaical standpoint, **but the discrete formulas are not!** In particular, teh accuracy and stability of numerical schemes derived from the three difference formulas: ([Forward Difference Formula](#lab1:eq:forward-diff')), ([Backward Difference Formula](#lab1:eq:backward-diff')) and ([Centered Difference Formula](#lab1:eq:centered-diff))\n",
    " are quite different.  More will said on this in the next Lab."
   ]
  },
  {
   "cell_type": "markdown",
   "metadata": {},
   "source": [
    "#### Summary\n",
    "\n",
    "This section introduces the use of the forward difference formula to\n",
    "discretize the derivatives in a first order differential equation. The\n",
    "resulting numerical scheme is called the forward Euler method. We also\n",
    "introduced the backward and centered difference formulas for the first\n",
    "derivative, which were also obtained from the definition of derivative.\n",
    "\n",
    "You saw how the choice of grid spacing affected the accuracy of the\n",
    "solution, and were introduced to the concepts of convergence and\n",
    "stability of a numerical scheme. More will be said about these topics in\n",
    "the succeeding lab, as well as other methods for discretizing\n",
    "derivatives."
   ]
  },
  {
   "cell_type": "markdown",
   "metadata": {},
   "source": [
    "6. Generalizations\n",
    "===============\n",
    "\n",
    "The idea of discretization introduced in the previous section can be\n",
    "generalized in several ways, some of which are:\n",
    "\n",
    "-   problems with higher derivatives,\n",
    "\n",
    "-   systems of ordinary differential equations,\n",
    "\n",
    "-   boundary value problems, and\n",
    "\n",
    "-   partial differential equations.\n",
    "\n",
    "6.1 Higher Derivatives\n",
    "------------------\n",
    "\n",
    "Many problems in physics involve derivatives of second order and higher.\n",
    "Discretization of these derivatives is no more difficult than the first\n",
    "derivative in the previous section. The difference formula for the\n",
    "second derivative, which will be derived in Lab \\#2, is given by\n",
    "\n",
    "<div id='lab1:eq:centered-diff2'>\n",
    "(Centered Second Derivative)\n",
    "$$y^{\\prime\\prime}(t_i) \\approx \n",
    "  \\frac{y(t_{i+1})-2y(t_i)+y(t_{i-1})}{(\\Delta t)^2} ,$$\n",
    "</div>\n",
    "\n",
    "and is called the *second-order\n",
    "centered difference formula* for the second derivative (“centered”,\n",
    "because it involves the three points centered about $t_i$, and\n",
    "“second-order” for reasons we will see in the next Lab). We will apply\n",
    "this formula in the following example …"
   ]
  },
  {
   "cell_type": "markdown",
   "metadata": {},
   "source": [
    "*Example Eight*\n",
    "--------------\n",
    "[lab1:exm:balloon]: <#Example-Eight>\n",
    "\n",
    "> A weather balloon, filled with helium, climbs\n",
    "vertically until it reaches its level of neutral buoyancy, at which\n",
    "point it begins to oscillate about this equilibrium height. We can\n",
    "derive a DE describing the motion of the balloon by applying Newton’s\n",
    "second law: $$mass \\; \\times \\; acceleration = force$$\n",
    "$$m \\frac{d^2 y}{d t^2} = \n",
    "      \\underbrace{- \\beta \\frac{dy}{dt}}_{\\mbox{air resistance}} \n",
    "      \\underbrace{- \\gamma y}_{\\mbox{buoyant force}},$$ where\n",
    "\n",
    "> -   $y(t)$ is the displacement of the balloon vertically from its\n",
    "    equilibrium level, $y=0$;\n",
    "\n",
    "> -   $m$ is the mass of the balloon and payload;\n",
    "\n",
    "> -   the oscillations are assumed small, so that we can assume a linear\n",
    "    functional form for the buoyant force, $-\\gamma y$.\n",
    "\n",
    "> This problem also requires initial values for both the initial\n",
    "displacement and velocity:\n",
    "$$y(0) = y_0 \\;\\; \\mbox{and} \\;\\; \\frac{dy}{dt}(0) = v_0.$$\n",
    "\n",
    "> <div id='lab1:fig:balloon'>\n",
    "![A weather balloon oscillating about its level of neutral\n",
    "buoyancy.](balloon/balloon.png)\n",
    "Figure Nine, Weather Balloon: A weather balloon oscillating about its level of neutral\n",
    "buoyancy.\n",
    "</div>"
   ]
  },
  {
   "cell_type": "markdown",
   "metadata": {},
   "source": [
    "*Problem One*\n",
    "------------\n",
    "[lab1:prob:osc]: (#Problem-One)\n",
    "\n",
    "> -   a\\) Using the centered difference formula ([Centered Second Derivative](#lab1:eq:centered-diff2)) for the second derivative, and\n",
    "    the forward difference formula ([Forward Difference Formula](#lab1:eq:forward-diff')) for the first derivative at the point\n",
    "    $t_i$, derive a difference scheme for $y_{i+1}$, the vertical\n",
    "    displacement of the weather balloon.\n",
    "\n",
    ">-   b\\) What is the difference between this scheme and the forward Euler\n",
    "    scheme from [Example Seven](#Example-Seven] , *Fix Link* related to the initial\n",
    "    conditions? (**Hint:** think about starting values …)\n",
    "\n",
    ">-   c\\) Given the initial values above, explain how to start the numerical\n",
    "    integration.\n",
    "    \n",
    "*Note*: There are a number of problems in the text of each lab.  See the syllabus for which problems you are assigned as part of your course.  That is, you don't have to do them all!"
   ]
  },
  {
   "cell_type": "markdown",
   "metadata": {},
   "source": [
    "6.2 Systems of First-order ODE's\n",
    "----------------------------\n",
    "[lab1:sec:ode-system]: (#6.2-Systems-of-First-order-ODE's)\n",
    "\n",
    "Discretization extends in a simple way to first-order systems of ODE’s,\n",
    "which arise in many problems, as we will see in some of the later labs.\n",
    "For now, though, we can see:\n",
    "\n",
    "*Example 9*\n",
    "----------\n",
    "\n",
    "> The second order DE for the weather balloon problem from\n",
    "Example [Eight](#Example-Eight) can be rewritten by letting $u=dy/dt$. Then,\n",
    "$$\\frac{dy}{dt} = u$$\n",
    "$$\\frac{du}{dt} = -\\frac{\\beta}{m} u - \\frac{\\gamma}{m} y$$ which is a\n",
    "system of first order ODE’s in $u$ and $y$. This set of differential\n",
    "equations can be discretized to obtain another numerical scheme for the\n",
    "weather balloon problem."
   ]
  },
  {
   "cell_type": "markdown",
   "metadata": {},
   "source": [
    "*Problem Two*\n",
    "-------------\n",
    "[lab1:prob:osc-system]: (#Problem-Two)\n",
    "\n",
    ">-   a\\) Derive a difference scheme for the problem based on the above system\n",
    "    of two ODE’s using the forward difference formula for the first\n",
    "    derivative.\n",
    "\n",
    ">-   b\\) By combining the discretized equations into one equation for y, show\n",
    "    that the difference between this scheme and the scheme obtained in\n",
    "    problem one is the difference formula for the second derivative."
   ]
  },
  {
   "cell_type": "markdown",
   "metadata": {},
   "source": [
    "6.3 Boundary Value Problem\n",
    "------------------------\n",
    "[lab1:sec:bvp]: (#6.3-Boundary-Value-Problems)\n",
    "\n",
    "\n",
    "So far, we’ve been dealing with *initial value problems* or *IVP’s*\n",
    "(such as the problem of heat conduction in a rock in\n",
    "Example [One](#Example-One)): a differential equation is given for an\n",
    "unknown function, along with its initial value. There is another class\n",
    "of problems, called <span>*boundary value problems*</span> (or *BVP’s*),\n",
    "where the independent variables are restricted to a *closed domain* (as\n",
    "opposed to an *open domain*) and the solution (or its derivative) is\n",
    "specified at every point along the boundary of the domain. Contrast this\n",
    "to initial value problems, where the solution is *not given* at the end\n",
    "time.\n",
    "\n",
    "A simple example of a boundary value problem is the steady state heat\n",
    "diffusion equation problem for the rod in\n",
    "Example [Three](#Example-Three). By *steady state*, we mean simply that\n",
    "the rod has reached a state where its temperature no longer changes in\n",
    "time; that is, $\\partial u/\\partial t = 0$. The corresponding problem\n",
    "has a temperature, $u(x)$, that depends on position only, and obeys the\n",
    "following equation and boundary conditions: $$u_{xx} = 0,$$\n",
    "$$u(0) = u(1) = 0.$$ This problem is known as an *initial-boundary value\n",
    "problem* (or *IBVP*), since it has a mix of both initial and boundary\n",
    "values.\n",
    "\n",
    "The structure of initial and boundary value problems are quite different\n",
    "mathematically: IVP’s involve a time variable which is unknown at the\n",
    "end time of the integration (and hence the solution is known on an open\n",
    "domain or interval), whereas BVP’s specify the solution value on a\n",
    "closed domain or interval. The numerical methods corresponding to these\n",
    "problems are also quite different, and this can be best illustrated by\n",
    "an example.\n"
   ]
  },
  {
   "cell_type": "markdown",
   "metadata": {},
   "source": [
    "*Example Ten*\n",
    "------------\n",
    "[lab1:exm:steady-diffusion]: (#Example-Ten)\n",
    "\n",
    "> We can discretize the steady state diffusion\n",
    "equation using the centered difference formula  for the second\n",
    "derivative to obtain: $$u_{i+1}-2u_i+u_{i-1} = 0$$ where\n",
    "$u_i\\approx u(i/N)$ and $i=0,1,\\ldots,N$ (and the factor of\n",
    "$(\\Delta x)^2 = {1}/{N^2}$ has been multiplied out). The boundary values\n",
    "$u_0$ and $u_N$ are both known to be zero, so the above expression\n",
    "represents a system of $N-1$ equations in $N-1$ unknown values $u_i$\n",
    "that must be solved for *simultaneously*. The solution of such systems\n",
    "of linear equations will be covered in more detail in Lab \\#3 in fact, this\n",
    "equation forms the basis for a Problem in the Linear Algebra Lab.\n",
    "\n",
    "> Compare this to the initial value problems discretized using the forward\n",
    "Euler method, where the resulting numerical scheme is a step-by-step,\n",
    "marching process (that is, the solution at one grid point can be\n",
    "computed using an explicit formula using only the value at the previous\n",
    "grid point).\n"
   ]
  },
  {
   "cell_type": "markdown",
   "metadata": {},
   "source": [
    "6.4 Partial Differential Equations\n",
    "------------------------------\n",
    "\n",
    "So far, the examples have been confined to ordinary differential\n",
    "equations, but the procedure we’ve set out for ODE’s extends with only\n",
    "minor modifications to problems involving PDE’s.\n",
    "\n",
    "*Example 11*\n",
    "-----------\n",
    "\n",
    "> To illustrate the process, let us go back to the heat diffusion problem\n",
    "from Example [Three](#Example-Three), an initial-boundary value problem\n",
    "in the temperature $u(x,t)$: $$u_{t} = \\alpha^2 u_{xx},$$ along with\n",
    "initial values $$u(x,0) = u_0(x),$$ and boundary values\n",
    "$$u(0,t) = u(1,t) = 0.$$\n",
    "\n",
    "> As for ODE’s, the steps in the process of discretization remain the\n",
    "same:\n",
    "\n",
    ">  1)  First, replace the independent variables by discrete values\n",
    "    $$x_i = i \\Delta x = \\frac{i}{M}, \\;\\; \\mbox{where $i=0, 1,\n",
    "          \\ldots, M$, and}$$\n",
    "    $$t_n = n \\Delta t, \\;\\; \\mbox{where $n=0, 1,\n",
    "          \\ldots$}$$ In this example, the set of discrete points define\n",
    "    a two-dimensional grid of points, as pictured in\n",
    "    Figure [Ten, PDE Grid](#lab1:fig:pde-grid).\n",
    "\n",
    "    > <div id='lab1:fig:pde-grid'>\n",
    "    ![The computational grid for the heat diffusion problem, with\n",
    "    discrete points $(x_i,t_n)$.](pdes/pde-grid.png)\n",
    "    Figure Ten, PDE Grid: The computational grid for the heat diffusion problem, with\n",
    "    discrete points $(x_i,t_n)$.\n",
    "    </div>\n",
    "\n",
    ">  2)  Replace the dependent variables (in this example, just the\n",
    "    temperature $u(x,t)$) with approximations defined at the grid\n",
    "    points: $$U_i^n \\approx u(x_i,t_n).$$ The boundary and initial\n",
    "    values for the discrete temperatures can then be written in terms of\n",
    "    the given information.\n",
    "\n",
    "> 3)  Approximate all of the derivatives appearing in the problem with\n",
    "    finite difference approximations. If we use the centered difference\n",
    "    approximation ([Centered Second Derivative](#lab1:eq:centered-diff2)) for the second derivative in $x$, and\n",
    "    the forward difference formula ([Forward Difference Formula](#lab1:eq:forward-diff')) for the time derivative (while evaluating the\n",
    "    terms on the right hand side at the previous time level), we obtain\n",
    "    the following numerical scheme:\n",
    "    $$U_i^{n+1} = U_i^n + \\frac{\\alpha^2 \\Delta t}{(\\Delta x)^2} \\left(\n",
    "          U_{i+1}^n - 2 U_i^n + U_{i-1}^n \\right).$$\n",
    "\n",
    ">    Given the initial values, $U_i^0=u_0(x_i)$, and boundary values\n",
    "$U_0^n=U_M^n=0$, this difference formula allows us to compute values of\n",
    "temperature at any time, based on values at the previous time.\n",
    "\n",
    "> There are, of course, other ways of discretizing this problem, but the\n",
    "above is one of the simplest."
   ]
  },
  {
   "cell_type": "markdown",
   "metadata": {},
   "source": [
    "Mathematical Notes\n",
    "==================\n",
    "[lab1:ap:mathnote]: (#Mathematical-Notes)\n",
    "\n",
    "Solution to the Heat Conduction Equation\n",
    "----------------------------------------\n",
    "[lab1:ap:conduction]: (#Solution-to-the-Heat-Conduction-Equation)\n",
    "\n",
    "In Example [One](#Example-One), we had the equation\n",
    "$$\\frac{dT}{dt} = -\\lambda (T-T_a),$$ subject to the initial condition\n",
    "$T(0)$. This equation can be solved by *separation of variables*,\n",
    "whereby all expressions involving the independent variable $t$ are moved\n",
    "to the right hand side, and all those involving the dependent variable\n",
    "$T$ are moved to the left $$\\frac{dT}{T-T_a} = -\\lambda dt.$$ The\n",
    "resulting expression is integrated from time $0$ to $t$\n",
    "$$\\int_{T(0)}^{T(t)} \\frac{dS}{S-T_a} = -\\int_0^t\\lambda ds,$$ (where\n",
    "$s$ and $S$ are dummy variables of integration), which then leads to the\n",
    "relationship $$\\ln \\left( T(t)-T_a)-\\ln(T(0)-T_a \\right) = -\\lambda t,$$\n",
    "or, after exponentiating both sides and rearranging,\n",
    "$$T(t) = T_a + (T(0)-T_a)e^{-\\lambda t},$$ which is exactly the [Conduction Solution](#lab1:eq:conduction-soln) equation."
   ]
  },
  {
   "cell_type": "markdown",
   "metadata": {},
   "source": [
    "References\n",
    "======\n",
    "\n",
    "<div id=\"Ref:BoyceDiPrima\">\n",
    "Boyce, W. E. and R. C. DiPrima, 1986: Elementary Differential Equations and Boundary Value Problems. John Wiley & Sons, New York, NY, 4th edition.\n",
    "</div>\n",
    "<div id=\"Ref:BurdenFaires\">\n",
    "Burden, R. L. and J. D. Faires, 1981: Numerical Analysis. PWS-Kent, Boston, 4th edition.\n",
    "</div>\n",
    "<div id=\"Ref:Chen\">\n",
    "Chen, J.-P., 1994: Predictions of saturation ratio for cloud microphysical models. Journal of the Atmospheric\n",
    "Sciences, 51(10), 1332–1338.\n",
    "</div><div id='Ref:Garcia'>\n",
    "Garcia, A. L., 1994: Numerical Methods for Physics. Prentice-Hall, Englewood Cliffs, NJ.\n",
    "</div><div id=\"Ref:Strang\">\n",
    "Strang, G., 1986: Introduction to Applied Mathematics. Wellesley-Cambridge Press, Wellesley, MA.\n",
    "</div>"
   ]
  },
  {
   "cell_type": "markdown",
   "metadata": {},
   "source": [
    "Glossary\n",
    "========\n",
    "\n",
    "**backward difference discretization:** used to estimate a derivative – uses the current points and points with smaller independent variable.\n",
    "\n",
    "**boundary value problem:** a differential equation (or set of differential equations) along with boundary values for the unknown functions. Abbreviated BVP.\n",
    "\n",
    "**BVP:** see *boundary value problem*\n",
    "\n",
    "**centre difference discretization:** used to estimate a derivative – uses a discretization symmetric (in\n",
    "independent variable) around the current point.\n",
    "\n",
    "**closed domain:** a domain for which the value of the dependent variables is known on the boundary of the domain.\n",
    "\n",
    "**converge:** as the discretization step (eg. ∆t) is reduced the solutions generated approach one solution curve.\n",
    "\n",
    "**DE:** see *differential equation*\n",
    "\n",
    "**dependent variable:** a variable which is a (possibly unknown) function of the independent variables in a problem; for example, in a fluid the pressure can be thought of as a dependent variable, which depends on the time t and position (x, y, z).\n",
    "\n",
    "**differential equation:** an equation involving derivatives. Abbreviated DE.\n",
    "\n",
    "**discretization:** when referring to DE’s, it is the process whereby the independent variables are replaced by a *grid* of discrete points; the dependent variables are replaced by approximations at the grid points; and the derivatives appearing in the problem are replaced by a *finite difference* approximation. The discretization process replaces the DE (or DE’s) with an algebraic equation or finite system of algebraic equations which can be solved on a computer.\n",
    "\n",
    "**finite difference:** an approximation of the derivative of a function by a difference quotient involving values of the function at discrete points. The simplest method of deriving finite difference formulae is using Taylor series.\n",
    "\n",
    "**first order differential equation:** a differential equation involving only first derivatives of the unknown functions.\n",
    "\n",
    "**forward difference discretization:** used to calculate a derivative – uses the current points and points with larger independent variable.\n",
    "\n",
    "**grid:** when referring to discretization of a DE, a grid is a set of discrete values of the independent variables, defining a *mesh* or array of points, at which the solution is approximated.\n",
    "\n",
    "**independent variable:** a variable that does not depend on other quantities (typical examples are time, position, etc.)\n",
    "\n",
    "**initial value problem:** a differential equation (or set of differential equations) along with initial values for the unknown functions. Abbreviated IVP.\n",
    "\n",
    "**interpolation:** a method for estimating the value of a function at points intermediate to those where its values are known.\n",
    "\n",
    "**IVP:** initial value problem\n",
    "\n",
    "**linear:** pertaining to a function or expression in which the quantities appear in a linear combination. If $x_i$ are the variable quantities, and $c_i$ are constants, then any linear function of the $x_i$ can be written in the form $c_0 + \\sum_i c_i \\cdot x_i$.\n",
    "\n",
    "**linear interpolation:** interpolation using straight lines between the known points\n",
    "\n",
    "**Navier-Stokes equations:** the system of non-linear PDE’s that describe the time evolution of the flow of\n",
    "a fluid.\n",
    "\n",
    "**non-linear:** pertaining to a function or expression in which the quantities appear in a non-linear combination.\n",
    "\n",
    "**numerical instability:** although the continuous differential equation has a finite solution, the numerical solution grows without bound as the numerical interation proceeds.\n",
    "\n",
    "**ODE:** see *ordinary differential equation*\n",
    "\n",
    "**open domain:** a domain for which the value of one or more dependent variables is unknown on a portion\n",
    "of the boundary of the domain or a domain for which one boundary (say time very large) is not specified.\n",
    "\n",
    "**ordinary differential equation:** a differential equation where the derivatives appear only with respect to one independent variable. Abbreviated ODE.\n",
    "\n",
    "**partial differential equation:** a differential equation where derivatives appear with respect to more than one independent variable. Abbreviated PDE.\n",
    "\n",
    "**PDE:** see *partial differential equation*\n",
    "\n",
    "**second order differential equation:** a differential equation involving only first and second derivatives of the unknown functions.\n",
    "\n",
    "**separation of variables:** a technique whereby a function with several dependent variables is written as a product of several functions, each of which depends on only one of the dependent variables. For example, a function of three unknowns, u(x, y, t), might be written as u(x, y, t) = X(x) · Y (y) · T (t)."
   ]
  },
  {
   "cell_type": "code",
   "execution_count": null,
   "metadata": {
    "collapsed": true
   },
   "outputs": [],
   "source": []
  }
 ],
 "metadata": {
  "kernelspec": {
   "display_name": "Python 3",
   "language": "python",
   "name": "python3"
  },
  "language_info": {
   "codemirror_mode": {
    "name": "ipython",
    "version": 3
   },
   "file_extension": ".py",
   "mimetype": "text/x-python",
   "name": "python",
   "nbconvert_exporter": "python",
   "pygments_lexer": "ipython3",
   "version": "3.4.3"
  }
 },
 "nbformat": 4,
 "nbformat_minor": 0
}
