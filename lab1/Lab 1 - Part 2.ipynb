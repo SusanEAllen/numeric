{
 "cells": [
  {
   "cell_type": "code",
   "execution_count": 1,
   "metadata": {
    "collapsed": false
   },
   "outputs": [],
   "source": [
    "import quiz"
   ]
  },
  {
   "cell_type": "markdown",
   "metadata": {},
   "source": [
    "4. Discretization\n",
    "==============\n",
    "\n",
    "When computing analytical solutions to differential equations, we are\n",
    "dealing with *continuous functions*; functions that depend continuously\n",
    "on the independent variables. A computer, however, has only finite\n",
    "storage capacity, and hence there is no way to represent continuous\n",
    "data, except approximately as a sequence of *discrete* values.\n",
    "\n",
    "*Example Four*\n",
    "--------------\n",
    "> We already saw an example of a discrete function in\n",
    "Example [Two](http://localhost:8889/notebooks/Lab%201.ipynb#Example-Two) where the rate function\n",
    "\n",
    "**Link needs fixing**\n",
    "\n",
    "> $\\lambda$, depended on the temperature. If $\\lambda$ is not known by\n",
    "some empirical formula, then it can only be determined by experimental\n",
    "measurements at a discrete set of temperature values. In\n",
    "Figure [Table](http://localhost:8889/notebooks/Lab%201.ipynb#lab1:fig:table), $\\lambda$ is given at a sequence of six\n",
    "temperature points ($(T_i, \\lambda_i)$, for $i = 0, 1, \\dots, 5)$),\n",
    "and so is an example of a *discrete function*.\n",
    "\n",
    "> The process of interpolation, which was introduced in\n",
    "Example [Two](http://localhost:8889/notebooks/Lab%201.ipynb#Example-Two), will be considered in more\n",
    "detail next.\n",
    "\n",
    "*Example Five*\n",
    "-------------\n",
    "\n",
    "> Consider the two continuous functions\n",
    "$$f(x)=x^3-5x \\;\\; {\\rm and} \\;\\; g(x)=x^{2/3} .$$ (In fact, $g(x)$ was\n",
    "the function used to generate the values $\\lambda(T)$ in\n",
    "Example [Two](http://localhost:8889/notebooks/Lab%201.ipynb#Example-Two)).\n",
    "\n",
    "> The representation of functions using mathematical notation or graphs is\n",
    "very convenient for mathematicians, where continuous functions make\n",
    "sense. However, a computer has a limited storage capacity, and so it can\n",
    "represent a function only at a finite number of discrete points $(x, y)$.\n",
    "\n",
    "> One question that arises immediately is: *What do we do if we have to\n",
    "determine a value of the function which is not at one of the discrete\n",
    "points?* The answer to this question is to use some form of\n",
    "<span>*interpolation*</span> – namely to use an approximation procedure\n",
    "to estimate values of the function at points between the known values.\n",
    "\n",
    "> For example, linear interpolation approximates the function at\n",
    "intermediate points using the straight line segment joining the two\n",
    "neighbouring discrete points. There are other types of interpolation\n",
    "schemes that are more complicated, a few of which are:\n",
    "\n",
    ">-   quadratic interpolation: every two sucessive points are joined by a\n",
    "    quadratic polynomial.\n",
    "\n",
    ">-   cubic splines: each pair of points is joined by a cubic polynomial\n",
    "    so that the function values and first derivatives match at each\n",
    "    point.\n",
    "\n",
    ">-   Fourier series: instead of polynomials, uses a sum of $\\sin nx$ and\n",
    "    $\\cos nx$ to approximate the function (Fourier series are useful in\n",
    "    analysis, as well as spectral methods).\n",
    "\n",
    ">-   Chebyshev polynomials: another type of polynomial approximation\n",
    "    which is useful for spectral methods.\n",
    "\n",
    ">-   …many others …\n",
    "\n",
    ">For details on any of these interpolation schemes, see a numerical\n",
    "analysis text such as that by @burden-faires."
   ]
  },
  {
   "cell_type": "markdown",
   "metadata": {},
   "source": [
    "> An application of linear interpolation to discrete versions of the\n",
    "functions $f$ and $g$ is shown in Figure [f and g](#lab1:fig:discrete-f).\n",
    "\n",
    "> <div id='lab1:fig:discrete-f'>\n",
    "![The functions $f$ and $g$ are known only at discrete points. The\n",
    "function can be approximated at other values by linear interpolation,\n",
    "where straight line segments are used to join successive points.](discrete/f.png) \n",
    "![The\n",
    "functions $f$ and $g$ are known only at discrete points. The function\n",
    "can be approximated at other values by linear interpolation, where\n",
    "straight line segments are used to join successive points.](discrete/g.png)\n",
    "Figure Five, f and g: The functions $f$ and $g$ are known only at discrete points. The\n",
    "function can be approximated at other values by linear interpolation,\n",
    "where straight line segments are used to join successive points.\n",
    "</div>\n",
    "\n",
    "> Depending on the function, or number of location of the points chosen,\n",
    "the approximation may be more or less accurate. In\n",
    "Figure [f and g](#lab1:fig:discrete-f), it is not clear which function is\n",
    "approximated more accurately. In the graph of $f(x)$, the error seems to\n",
    "be fairly small throughout. However, for the function $g(x)$, the error\n",
    "is large near $x=0$, and then very small elsewhere. This problem of\n",
    "*accuracy* of discrete approximations will come up again and again in\n",
    "this course.\n",
    "\n"
   ]
  },
  {
   "cell_type": "markdown",
   "metadata": {},
   "source": [
    "## Demo: Interpolation\n",
    "[lab1:demo:discrete]: <#Demo:-Interpolation> \"Interpolation Demo\"\n",
    "Here is an interactive example demonstrating the use of interpolation (linear and cubic) in approximating functions. "
   ]
  },
  {
   "cell_type": "code",
   "execution_count": 1,
   "metadata": {
    "collapsed": true
   },
   "outputs": [],
   "source": [
    "# Interpolation Interactive"
   ]
  },
  {
   "cell_type": "markdown",
   "metadata": {},
   "source": [
    "Interpolation Quiz \n",
    "--------------\n",
    "\n",
    " The accuracy of an approximation using\n",
    "linear or cubic interpolation improves as the number of points is\n",
    "increased.  True or False?\n",
    "\n",
    "In the following, replace 'xxxx' by 'True', 'False', or 'Hint'"
   ]
  },
  {
   "cell_type": "code",
   "execution_count": 4,
   "metadata": {
    "collapsed": false
   },
   "outputs": [
    {
     "name": "stdout",
     "output_type": "stream",
     "text": [
      "Acceptable answers are 'True', 'False', or 'Hint'\n"
     ]
    }
   ],
   "source": [
    "print (quiz.interpolation_quiz(answer = 'xxxx'))"
   ]
  },
  {
   "cell_type": "markdown",
   "metadata": {},
   "source": [
    "When solving differential equations numerically, it is essential to\n",
    "reduce the continuous problem to a discrete one. The basic idea is to\n",
    "look for an approximate solution, which is defined at a finite number of\n",
    "discrete points. This set of points is called a *grid*. Consider the\n",
    "one-dimensional conduction problem of Example [One, Conduction](#Example-One),\n",
    "which in its most general form reads\n",
    "\n",
    "<div id='lab1:eq:conduction'>\n",
    "    $$\\frac{dT}{dt} = -\\lambda(T,t) \\, (T-T_a),$$\n",
    "</div>\n",
    "\n",
    "  with initial temperature $T(0)$.\n",
    "\n",
    "When we say we want to design a numerical procedure for solving this\n",
    "initial value problem, what we want is a procedure for constructing a\n",
    "sequence of approximations,\n",
    "$$T_0, \\, T_1, \\, \\ldots, \\, T_i, \\, \\ldots,$$ defined at a set of\n",
    "discrete $t$-points, $$t_0<t_1 < \\cdots <t_i < \\cdots$$ Each $T_i$ is an\n",
    "approximation of the actual temperature at $t_i$; that is\n",
    "$$T_i \\approx T(t_i).$$ For now, we will consider equally-spaced points,\n",
    "each of which is separated by a distance , so that $$t_i=t_0+i \\Delta t .$$\n",
    "An example of such a grid is shown in Figure [Six, Grid](#lab1:fig:discrete-points).\n",
    "\n",
    "<div id='lab1:fig:discrete-points'>\n",
    "![A grid of equally-spaced points, $t_i=t_0+i\\Delta t$, for $i=0,1,2,\\ldots$.](discrete/grid.png)\n",
    "Figure Six, Grid: A grid of equally-spaced points, $t_i=t_0+i\\Delta t$, for $i=0,1,2,\\ldots$.\n",
    "</div>\n",
    "\n",
    "This process of reducing a continuous problem to one in a finite number\n",
    "of discrete unknowns is called *discretization*. The actual mechanics of\n",
    "discretizing differential equations are introduced in the following\n",
    "section."
   ]
  },
  {
   "cell_type": "markdown",
   "metadata": {},
   "source": [
    "Discretization Quiz \n",
    "--------------\n",
    "\n",
    "What phrase best describes \"discretization\"?\n",
    "\n",
    "**A** The development and analysis of methods for the\n",
    "solution of mathematical problems on a computer.\n",
    "\n",
    "**B** The process of replacing continuous functions by\n",
    "discrete values.\n",
    "\n",
    "**C** Employing the discrete Fourier transform to analyze the\n",
    "stability of a numerical scheme.\n",
    "\n",
    "**D** The method by which one can reduce an initial value\n",
    "problem to a set of discrete linear equations that can be solved on a\n",
    "computer. \n",
    "\n",
    "In the following, replace 'x' by 'A', 'B', 'C', 'D' or 'Hint'"
   ]
  },
  {
   "cell_type": "code",
   "execution_count": 8,
   "metadata": {
    "collapsed": false
   },
   "outputs": [
    {
     "name": "stdout",
     "output_type": "stream",
     "text": [
      "Acceptable answers are 'A', 'B', 'C', 'D' or 'Hint'\n"
     ]
    }
   ],
   "source": [
    "print (quiz.discretization_quiz(answer = 'x'))"
   ]
  },
  {
   "cell_type": "markdown",
   "metadata": {},
   "source": [
    "#### Summary\n",
    "\n",
    "The basic idea in this section is that continuous functions can be\n",
    "approximated by discrete ones, through the process of\n",
    "*discretization*. In the course of looking at discrete\n",
    "approximations in the interactive example, we introduced the idea of the\n",
    "*accuracy* of an approximation, and showed that increasing the accuracy\n",
    "of an approximation is not straightforward.\n",
    "\n",
    "We introduced the notation for approximate solutions to differential\n",
    "equations on a grid of points. The mechanics of discretization as they\n",
    "apply to differential equations, will be investigated further in the\n",
    "remainder of this Lab, as well as in Lab Two.\n"
   ]
  },
  {
   "cell_type": "markdown",
   "metadata": {},
   "source": [
    "5. Difference Approximations to the First Derivative \n",
    "=================================================\n",
    "<!--- {#lab1:sec:diff-first-deriv} --->\n",
    "[lab1:sec:diff-first-deriv]: <#5-Difference-Approximations-to-the-First-Derivative> \"First Difference Approximation\"\n",
    "\n",
    "It only remains to write a discrete version of the differential equation\n",
    "involving the approximations $T_i$. The way we do this is to approximate\n",
    "the derivatives with *finite differences*. If this term is new to you,\n",
    "then you can think of it as just another name for a concept you have\n",
    "already seen in calculus. Remember the *definition of the derivative of\n",
    "a function $y(t)$*, where $y^\\prime(t)$ is written as a limit of a\n",
    "divided difference:\n",
    "\n",
    "<div id='lab1:eq:defn-deriv'>\n",
    "$$y^\\prime(t) = \\lim_{\\Delta t\\rightarrow 0} \\frac{y(t+\\Delta t)-y(t)}{\\Delta t}.\n",
    "  $$ \n",
    "</div>\n",
    "\n",
    "  We can apply the same idea to approximate\n",
    "the derivative $dT/dt=T^\\prime$ in by the *forward difference formula*,\n",
    "using the discrete approximations, $T_i$:\n",
    "\n",
    "<div id='lab1:eq:forward-diff'>\n",
    "(Forward Difference Formula)\n",
    "$$T^\\prime(t_i) \\approx \\frac{T_{i+1}-T_i}{\\Delta t}.$$\n",
    "</div>\n",
    "\n",
    "*Example Six*\n",
    "------------\n",
    "\n",
    "> In order to understand the ability of the formula to approximate the\n",
    "derivative, let’s look at a specific example. Take the function\n",
    "$y(x)=x^3-5x$, and apply the forward difference formula at the point\n",
    "$x=1$. The function and its tangent line (the short line segment with\n",
    "slope $y^\\prime(1)$) are displayed in Figure [Seven, Tangents](#lab1:fig:deriv).\n",
    "\n",
    "> <div id='lab1:fig:deriv'>\n",
    "![Plot of the function $y=x^3-5x$ and the forward difference\n",
    "approximations to the derivative for various values of $\\Delta t$](deriv/deriv.png)\n",
    "Figure Seven, Tangents: Plot of the function $y=x^3-5x$ and the forward difference\n",
    "approximations to the derivative for various values of $\\Delta t$\n",
    "</div>\n",
    "\n",
    "> Each of the remaining line segments represents the forward difference\n",
    "approximation to the tangent line for different values of , which are\n",
    "simply *the secant lines through the points $(t, y(t))$ and\n",
    "$(t+\\Delta t, y(t+\\Delta t))$*. Notice that the approximation improves as  is\n",
    "reduced. This motivates the idea that grid refinement improves the\n",
    "accuracy of the discretization …but not always (as we will see in the\n",
    "coming sections).\n"
   ]
  },
  {
   "cell_type": "markdown",
   "metadata": {
    "collapsed": true
   },
   "source": [
    "## Investigation"
   ]
  },
  {
   "cell_type": "code",
   "execution_count": 1,
   "metadata": {
    "collapsed": true
   },
   "outputs": [],
   "source": [
    "# interactive example here"
   ]
  },
  {
   "cell_type": "markdown",
   "metadata": {},
   "source": [
    "5.1 Forward Euler Method\n",
    "--------------------\n",
    "<!--- #lab1:sec:forward-euler} --->\n",
    "[lab1:sec:forward-euler]: <#5.1-Forward-Euler-Method\"\n",
    "\n",
    "We can now write down a discrete version of our model ODE problem at any\n",
    "point  by\n",
    "\n",
    "1.  discretizing the derivative on the left hand side (for example,\n",
    "    using the forward difference approximation );\n",
    "\n",
    "2.  evaluating the right hand side function at the discrete point .\n",
    "\n",
    "The discrete form of the problem is\n",
    "\n",
    "$$\\frac{T_{i+1}-T_i}{\\Delta t} = \\lambda(T_i,t_i) \\, (T_i-T_a),$$ or, after\n",
    "rearranging, \n",
    "\n",
    "<div id='lab1:eq:forward-euler-conduction'>\n",
    "$$T_{i+1} = T_i + \\Delta t \\, \\lambda(T_i,t_i) \\, (T_i-T_a).$$ \n",
    "</div>\n",
    "\n",
    "This formula is called the\n",
    "*Forward Euler method* (since it uses forward differences). Notice that\n",
    "this formula relates each discrete solution value to the solution at the\n",
    "preceding $t$-point. Consequently, if we are given an initial value\n",
    "$T(0)$, then all subsequent values of the solution are easily computed.\n",
    "\n",
    "(**Note:** The forward Euler formula for the more general\n",
    "first-order IVP in  is simply $y_{i+1} = y_i + \\Delta t f(y_i,t_i)$.)\n",
    "\n",
    "*Example Seven*\n",
    "--------------\n",
    "[lab1:exm:saturation]: <#Example-Seven\"\n",
    "\n",
    "> Let us now turn to another example in atmospheric\n",
    "physics to illustrate the use of the forward Euler method. Consider the\n",
    "process of condensation and evaporation in a cloud. The *saturation\n",
    "ratio*, $S$, is the ratio of the vapour pressure to the vapour pressure\n",
    "of a plane surface of water at temperature $T$. $S$ varies in time\n",
    "according to the (saturation development equation)\n",
    "\n",
    "> <div id='lab1:eq:saturation'>\n",
    "$$\\frac{dS}{dt} = \\alpha S^2 + \\beta S + \\gamma,$$ \n",
    "</div>\n",
    "\n",
    "> where $\\alpha$, $\\beta$ and $\\gamma$\n",
    "are complicated (but constant) expressions involving the physical\n",
    "parameters in the problem (and so we won’t reproduce them here).\n",
    "\n",
    "> What are some physically reasonable values of the parameters (other than\n",
    "simply $\\alpha<0$ and $\\gamma>0$)?\n",
    "\n",
    "**Reference Link**\n",
    "> @chen gives a detailed derivation of the equation, which is a\n",
    "non-linear, first order ODE ( non-linear in the dependent variable $S$,\n",
    "and it contains only a first derivative in the time variable). Chen also\n",
    "derives an analytical solution to the problem which takes a couple pages\n",
    "of messy algebra to come to. Rather than show these details, we would\n",
    "like to use the forward Euler method in order to compute the solution\n",
    "numerically, and as we will see, this is actually quite simple.\n"
   ]
  },
  {
   "cell_type": "markdown",
   "metadata": {},
   "source": [
    "> Using the [forward difference formula](#lab1:eq:forward-diff) , the discrete form of the [saturation development equation](#lab1:eq:saturation)  is\n",
    "$$S_{i+1} = S_i + \\Delta t \\left( \\alpha S_i^2 + \\beta S_i +\n",
    "    \\gamma \\right).$$ Consider an initial saturation ratio of $0.98$,\n",
    "and take parameter values $\\alpha=-1$, $\\beta=1$ and $\\gamma=1$. The\n",
    "resulting solution, for various values of the time step $\\Delta t$,is plotted in\n",
    "Figure [Eight, Saturation Time Series](#lab1:fig:saturation).\n",
    "\n",
    "> <div id='lab1:fig:saturation'>\n",
    "![Plot of the saturation ratio as a function of time using the Forward\n",
    "Euler method. “” is the number of time steps.](feuler/sat2.png)\n",
    "Figure Eight, Saturation Time Series: Plot of the saturation ratio as a function of time using the Forward\n",
    "Euler method. “nt” is the number of time steps.\n",
    "</div>"
   ]
  },
  {
   "cell_type": "code",
   "execution_count": null,
   "metadata": {
    "collapsed": true
   },
   "outputs": [],
   "source": []
  }
 ],
 "metadata": {
  "kernelspec": {
   "display_name": "Python 3",
   "language": "python",
   "name": "python3"
  },
  "language_info": {
   "codemirror_mode": {
    "name": "ipython",
    "version": 3
   },
   "file_extension": ".py",
   "mimetype": "text/x-python",
   "name": "python",
   "nbconvert_exporter": "python",
   "pygments_lexer": "ipython3",
   "version": "3.4.3"
  }
 },
 "nbformat": 4,
 "nbformat_minor": 0
}
