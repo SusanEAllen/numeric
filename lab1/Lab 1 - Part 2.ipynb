{
 "cells": [
  {
   "cell_type": "code",
   "execution_count": 1,
   "metadata": {
    "collapsed": false
   },
   "outputs": [],
   "source": [
    "import quiz"
   ]
  },
  {
   "cell_type": "markdown",
   "metadata": {},
   "source": [
    "4. Discretization\n",
    "==============\n",
    "\n",
    "When computing analytical solutions to differential equations, we are\n",
    "dealing with *continuous functions*; functions that depend continuously\n",
    "on the independent variables. A computer, however, has only finite\n",
    "storage capacity, and hence there is no way to represent continuous\n",
    "data, except approximately as a sequence of *discrete* values.\n",
    "\n",
    "*Example Four*\n",
    "--------------\n",
    "> We already saw an example of a discrete function in\n",
    "Example [Two](http://localhost:8889/notebooks/Lab%201.ipynb#Example-Two) where the rate function\n",
    "\n",
    "**Link needs fixing**\n",
    "\n",
    "> $\\lambda$, depended on the temperature. If $\\lambda$ is not known by\n",
    "some empirical formula, then it can only be determined by experimental\n",
    "measurements at a discrete set of temperature values. In\n",
    "Figure [Table](http://localhost:8889/notebooks/Lab%201.ipynb#lab1:fig:table), $\\lambda$ is given at a sequence of six\n",
    "temperature points ($(T_i, \\lambda_i)$, for $i = 0, 1, \\dots, 5)$),\n",
    "and so is an example of a *discrete function*.\n",
    "\n",
    "> The process of interpolation, which was introduced in\n",
    "Example [Two](http://localhost:8889/notebooks/Lab%201.ipynb#Example-Two), will be considered in more\n",
    "detail next.\n",
    "\n",
    "*Example Five*\n",
    "-------------\n",
    "\n",
    "> Consider the two continuous functions\n",
    "$$f(x)=x^3-5x \\;\\; {\\rm and} \\;\\; g(x)=x^{2/3} .$$ (In fact, $g(x)$ was\n",
    "the function used to generate the values $\\lambda(T)$ in\n",
    "Example [Two](http://localhost:8889/notebooks/Lab%201.ipynb#Example-Two).\n",
    "\n",
    "> The representation of functions using mathematical notation or graphs is\n",
    "very convenient for mathematicians, where continuous functions make\n",
    "sense. However, a computer has a limited storage capacity, and so it can\n",
    "represent a function only at a finite number of discrete points $(x, y)$.\n",
    "\n",
    "> One question that arises immediately is: *What do we do if we have to\n",
    "determine a value of the function which is not at one of the discrete\n",
    "points?* The answer to this question is to use some form of\n",
    "<span>*interpolation*</span> – namely to use an approximation procedure\n",
    "to estimate values of the function at points between the known values.\n",
    "\n",
    "> For example, linear interpolation approximates the function at\n",
    "intermediate points using the straight line segment joining the two\n",
    "neighbouring discrete points. There are other types of interpolation\n",
    "schemes that are more complicated, a few of which are:\n",
    "\n",
    ">-   quadratic interpolation: every two sucessive points are joined by a\n",
    "    quadratic polynomial.\n",
    "\n",
    ">-   cubic splines: each pair of points is joined by a cubic polynomial\n",
    "    so that the function values and first derivatives match at each\n",
    "    point.\n",
    "\n",
    ">-   Fourier series: instead of polynomials, uses a sum of $\\sin nx$ and\n",
    "    $\\cos nx$ to approximate the function (Fourier series are useful in\n",
    "    analysis, as well as spectral methods).\n",
    "\n",
    ">-   Chebyshev polynomials: another type of polynomial approximation\n",
    "    which is useful for spectral methods.\n",
    "\n",
    ">-   …many others …\n",
    "\n",
    ">For details on any of these interpolation schemes, see a numerical\n",
    "analysis text such as that by @burden-faires."
   ]
  },
  {
   "cell_type": "markdown",
   "metadata": {},
   "source": [
    "> An application of linear interpolation to discrete versions of the\n",
    "functions $f$ and $g$ is shown in Figure [f and g](#lab1:fig:discrete-f).\n",
    "\n",
    "> <div id='lab1:fig:discrete-f'>\n",
    "![The functions $f$ and $g$ are known only at discrete points. The\n",
    "function can be approximated at other values by linear interpolation,\n",
    "where straight line segments are used to join successive points.](discrete/f.png) \n",
    "![The\n",
    "functions $f$ and $g$ are known only at discrete points. The function\n",
    "can be approximated at other values by linear interpolation, where\n",
    "straight line segments are used to join successive points.](discrete/g.png)\n",
    "Figure Five, f and g: The functions $f$ and $g$ are known only at discrete points. The\n",
    "function can be approximated at other values by linear interpolation,\n",
    "where straight line segments are used to join successive points.\n",
    "</div>\n",
    "\n",
    "> Depending on the function, or number of location of the points chosen,\n",
    "the approximation may be more or less accurate. In\n",
    "Figure [f and g](#lab1:fig:discrete-f), it is not clear which function is\n",
    "approximated more accurately. In the graph of $f(x)$, the error seems to\n",
    "be fairly small throughout. However, for the function $g(x)$, the error\n",
    "is large near $x=0$, and then very small elsewhere. This problem of\n",
    "*accuracy* of discrete approximations will come up again and again in\n",
    "this course.\n",
    "\n"
   ]
  },
  {
   "cell_type": "markdown",
   "metadata": {},
   "source": [
    "## Demo: Interpolation\n",
    "[lab1:demo:discrete]: <#Demo:-Interpolation> \"Interpolation Demo\"\n",
    "Here is an interactive example demonstrating the use of interpolation (linear and cubic) in approximating functions. "
   ]
  },
  {
   "cell_type": "code",
   "execution_count": 1,
   "metadata": {
    "collapsed": true
   },
   "outputs": [],
   "source": [
    "# Interpolation Interactive"
   ]
  },
  {
   "cell_type": "markdown",
   "metadata": {},
   "source": [
    "Interpolation Quiz \n",
    "--------------\n",
    "\n",
    " The accuracy of an approximation using\n",
    "linear or cubic interpolation improves as the number of points is\n",
    "increased.  True or False?\n",
    "\n",
    "In the following, replace 'xxxx' by 'True', 'False', or 'Hint'"
   ]
  },
  {
   "cell_type": "code",
   "execution_count": 4,
   "metadata": {
    "collapsed": false
   },
   "outputs": [
    {
     "name": "stdout",
     "output_type": "stream",
     "text": [
      "Acceptable answers are 'True', 'False', or 'Hint'\n"
     ]
    }
   ],
   "source": [
    "print (quiz.interpolation_quiz(answer = 'xxxx'))"
   ]
  },
  {
   "cell_type": "markdown",
   "metadata": {},
   "source": [
    "When solving differential equations numerically, it is essential to\n",
    "reduce the continuous problem to a discrete one. The basic idea is to\n",
    "look for an approximate solution, which is defined at a finite number of\n",
    "discrete points. This set of points is called a *grid*. Consider the\n",
    "one-dimensional conduction problem of Example [One, Conduction](#Example-One),\n",
    "which in its most general form reads\n",
    "\n",
    "<div id='lab1:eq:conduction'>\n",
    "    $$\\frac{dT}{dt} = -\\lambda(T,t) \\, (T-T_a),$$\n",
    "</div>\n",
    "\n",
    "  with initial temperature $T(0)$.\n",
    "\n",
    "When we say we want to design a numerical procedure for solving this\n",
    "initial value problem, what we want is a procedure for constructing a\n",
    "sequence of approximations,\n",
    "$$T_0, \\, T_1, \\, \\ldots, \\, T_i, \\, \\ldots,$$ defined at a set of\n",
    "discrete $t$-points, $$t_0<t_1 < \\cdots <t_i < \\cdots$$ Each $T_i$ is an\n",
    "approximation of the actual temperature at $t_i$; that is\n",
    "$$T_i \\approx T(t_i).$$ For now, we will consider equally-spaced points,\n",
    "each of which is separated by a distance , so that $$t_i=t_0+i \\Delta t .$$\n",
    "An example of such a grid is shown in Figure [lab1:fig:discrete-points].\n",
    "\n",
    "<div id='lab1:fig:discrete-points'>\n",
    "![A grid of equally-spaced points, $t_i=t_0+i\\Delta t$, for $i=0,1,2,\\ldots$.](discrete/grid.png)\n",
    "Figure Six, Grid: A grid of equally-spaced points, $t_i=t_0+i\\Delta t$, for $i=0,1,2,\\ldots$.\n",
    "</div>\n",
    "\n",
    "This process of reducing a continuous problem to one in a finite number\n",
    "of discrete unknowns is called *discretization*. The actual mechanics of\n",
    "discretizing differential equations are introduced in the following\n",
    "section."
   ]
  },
  {
   "cell_type": "markdown",
   "metadata": {},
   "source": [
    "Discretization Quiz \n",
    "--------------\n",
    "\n",
    "What phrase best describes \"discretization\"?\n",
    "\n",
    "**A** The development and analysis of methods for the\n",
    "solution of mathematical problems on a computer.\n",
    "\n",
    "**B** The process of replacing continuous functions by\n",
    "discrete values.\n",
    "\n",
    "**C** Employing the discrete Fourier transform to analyze the\n",
    "stability of a numerical scheme.\n",
    "\n",
    "**D** The method by which one can reduce an initial value\n",
    "problem to a set of discrete linear equations that can be solved on a\n",
    "computer. \n",
    "\n",
    "In the following, replace 'x' by 'A', 'B', 'C', 'D' or 'Hint'"
   ]
  },
  {
   "cell_type": "code",
   "execution_count": 8,
   "metadata": {
    "collapsed": false
   },
   "outputs": [
    {
     "name": "stdout",
     "output_type": "stream",
     "text": [
      "Acceptable answers are 'A', 'B', 'C', 'D' or 'Hint'\n"
     ]
    }
   ],
   "source": [
    "print (quiz.discretization_quiz(answer = 'x'))"
   ]
  },
  {
   "cell_type": "markdown",
   "metadata": {},
   "source": [
    "#### Summary\n",
    "\n",
    "The basic idea in this section is that continuous functions can be\n",
    "approximated by discrete ones, through the process of\n",
    "*discretization*. In the course of looking at discrete\n",
    "approximations in the interactive example, we introduced the idea of the\n",
    "*accuracy* of an approximation, and showed that increasing the accuracy\n",
    "of an approximation is not straightforward.\n",
    "\n",
    "We introduced the notation for approximate solutions to differential\n",
    "equations on a grid of points. The mechanics of discretization as they\n",
    "apply to differential equations, will be investigated further in the\n",
    "remainder of this Lab, as well as in Lab Two.\n"
   ]
  },
  {
   "cell_type": "code",
   "execution_count": null,
   "metadata": {
    "collapsed": true
   },
   "outputs": [],
   "source": []
  }
 ],
 "metadata": {
  "kernelspec": {
   "display_name": "Python 3",
   "language": "python",
   "name": "python3"
  },
  "language_info": {
   "codemirror_mode": {
    "name": "ipython",
    "version": 3
   },
   "file_extension": ".py",
   "mimetype": "text/x-python",
   "name": "python",
   "nbconvert_exporter": "python",
   "pygments_lexer": "ipython3",
   "version": "3.4.3"
  }
 },
 "nbformat": 4,
 "nbformat_minor": 0
}
