{
 "cells": [
  {
   "cell_type": "markdown",
   "metadata": {
    "collapsed": true
   },
   "source": [
    "## Investigation"
   ]
  },
  {
   "cell_type": "code",
   "execution_count": 1,
   "metadata": {
    "collapsed": true
   },
   "outputs": [],
   "source": [
    "# interactive example here"
   ]
  },
  {
   "cell_type": "markdown",
   "metadata": {},
   "source": [
    "5.1 Forward Euler Method\n",
    "--------------------\n",
    "<!--- #lab1:sec:forward-euler} --->\n",
    "[lab1:sec:forward-euler]: <#5.1-Forward-Euler-Method\"\n",
    "\n",
    "We can now write down a discrete version of our model ODE problem at any\n",
    "point  by\n",
    "\n",
    "1.  discretizing the derivative on the left hand side (for example,\n",
    "    using the forward difference approximation );\n",
    "\n",
    "2.  evaluating the right hand side function at the discrete point .\n",
    "\n",
    "The discrete form of the problem is\n",
    "\n",
    "$$\\frac{T_{i+1}-T_i}{\\Delta t} = \\lambda(T_i,t_i) \\, (T_i-T_a),$$ or, after\n",
    "rearranging, \n",
    "\n",
    "<div id='lab1:eq:forward-euler-conduction'>\n",
    "$$T_{i+1} = T_i + \\Delta t \\, \\lambda(T_i,t_i) \\, (T_i-T_a).$$ \n",
    "</div>\n",
    "\n",
    "This formula is called the\n",
    "*Forward Euler method* (since it uses forward differences). Notice that\n",
    "this formula relates each discrete solution value to the solution at the\n",
    "preceding $t$-point. Consequently, if we are given an initial value\n",
    "$T(0)$, then all subsequent values of the solution are easily computed.\n",
    "\n",
    "(**Note:** The forward Euler formula for the more general\n",
    "first-order IVP in  is simply $y_{i+1} = y_i + \\Delta t f(y_i,t_i)$.)\n",
    "\n",
    "*Example Seven*\n",
    "--------------\n",
    "[lab1:exm:saturation]: (#Example-Seven\")\n",
    "\n",
    "> Let us now turn to another example in atmospheric\n",
    "physics to illustrate the use of the forward Euler method. Consider the\n",
    "process of condensation and evaporation in a cloud. The *saturation\n",
    "ratio*, $S$, is the ratio of the vapour pressure to the vapour pressure\n",
    "of a plane surface of water at temperature $T$. $S$ varies in time\n",
    "according to the (saturation development equation)\n",
    "\n",
    "> <div id='lab1:eq:saturation'>\n",
    "$$\\frac{dS}{dt} = \\alpha S^2 + \\beta S + \\gamma,$$ \n",
    "</div>\n",
    "\n",
    "> where $\\alpha$, $\\beta$ and $\\gamma$\n",
    "are complicated (but constant) expressions involving the physical\n",
    "parameters in the problem (and so we won’t reproduce them here).\n",
    "\n",
    "> What are some physically reasonable values of the parameters (other than\n",
    "simply $\\alpha<0$ and $\\gamma>0$)?\n",
    "\n",
    "> [Chen (1994)](Ref:Chen) gives a detailed derivation of the equation, which is a\n",
    "non-linear, first order ODE ( non-linear in the dependent variable $S$,\n",
    "and it contains only a first derivative in the time variable). Chen also\n",
    "derives an analytical solution to the problem which takes a couple pages\n",
    "of messy algebra to come to. Rather than show these details, we would\n",
    "like to use the forward Euler method in order to compute the solution\n",
    "numerically, and as we will see, this is actually quite simple.\n"
   ]
  },
  {
   "cell_type": "markdown",
   "metadata": {},
   "source": [
    "> Using the [forward difference formula](#lab1:eq:forward-diff) , the discrete form of the [saturation development equation](#lab1:eq:saturation)  is\n",
    "$$S_{i+1} = S_i + \\Delta t \\left( \\alpha S_i^2 + \\beta S_i +\n",
    "    \\gamma \\right).$$ Consider an initial saturation ratio of $0.98$,\n",
    "and take parameter values $\\alpha=-1$, $\\beta=1$ and $\\gamma=1$. The\n",
    "resulting solution, for various values of the time step $\\Delta t$,is plotted in\n",
    "Figure [Eight, Saturation Time Series](#lab1:fig:saturation).\n",
    "\n",
    "> <div id='lab1:fig:saturation'>\n",
    "![Plot of the saturation ratio as a function of time using the Forward\n",
    "Euler method. “” is the number of time steps.](feuler/sat2.png)\n",
    "Figure Eight, Saturation Time Series: Plot of the saturation ratio as a function of time using the Forward\n",
    "Euler method. “nt” is the number of time steps.\n",
    "</div>"
   ]
  },
  {
   "cell_type": "markdown",
   "metadata": {},
   "source": [
    "> There are two things to notice here, both related to the importance of\n",
    "the choice of time step $\\Delta t$:\n",
    "\n",
    "> -   As $\\Delta t$ is reduced, the solution appears to *converge* to one solution\n",
    "    curve, which we would hope is the exact solution to the differential\n",
    "    equation. An important question to ask is: *When will the numerical\n",
    "    method converge to the exact solution as  is reduced?*\n",
    "\n",
    "> -   If $\\Delta t$ is taken too large, however, the numerical solution breaks down.\n",
    "    In the above example, the oscillations that occur for the largest\n",
    "    time step (when $nt=6$) are a sign of <span>*numerical\n",
    "    instability*</span>. The differential problem is stable and exhibits\n",
    "    no such behaviour, but the numerical scheme we have used has\n",
    "    introduced an instability. An obvious question that arises is: *How\n",
    "    can we avoid introducing instabilities in a numerical scheme?*\n",
    "\n",
    "> Neither question has an obvious answer, and both issues will be\n",
    "investigated further in Lab 2."
   ]
  },
  {
   "cell_type": "markdown",
   "metadata": {},
   "source": [
    "5.2 Other Approximations\n",
    "--------------------\n",
    "\n",
    "Look again at the limit [definition of derivative](#lab1:eq:defn-deriv), and notice that an\n",
    "equivalent expression for $T^\\prime$ is\n",
    "\n",
    "<div id='lab1:eq:defn-back'>\n",
    "$$T^\\prime(t) = \\lim_{\\Delta t\\rightarrow 0} \\frac{T(t)-T(t-\\Delta t)}{\\Delta t}.$$ \n",
    "</div>  \n",
    "  \n",
    "From this, we can derive the *backward\n",
    "difference formula* for the first derivative,\n",
    "\n",
    "<div id='lab1:eq:backward-diff'>\n",
    "$$T^\\prime(t_i) \\approx \\frac{T_i-T_{i-1}}{\\Delta t},$$ \n",
    "</div>\n",
    "\n",
    "and similarly the *centered difference formula* \n",
    "\n",
    "<div id='lab1:eq:centered-diff'>\n",
    "$$T^\\prime(t_i) \\approx \\frac{T_{i+1}-T_{i-1}}{2 \\Delta t}.$$\n",
    "</div>"
   ]
  },
  {
   "cell_type": "markdown",
   "metadata": {},
   "source": [
    "#### Summary\n",
    "\n",
    "This section introduces the use of the forward difference formula to\n",
    "discretize the derivatives in a first order differential equation. The\n",
    "resulting numerical scheme is called the forward Euler method. We also\n",
    "introduced the backward and centered difference formulas for the first\n",
    "derivative, which were also obtained from the definition of derivative.\n",
    "\n",
    "You saw how the choice of grid spacing affected the accuracy of the\n",
    "solution, and were introduced to the concepts of convergence and\n",
    "stability of a numerical scheme. More will be said about these topics in\n",
    "the succeeding lab, as well as other methods for discretizing\n",
    "derivatives."
   ]
  },
  {
   "cell_type": "code",
   "execution_count": null,
   "metadata": {
    "collapsed": true
   },
   "outputs": [],
   "source": []
  }
 ],
 "metadata": {
  "kernelspec": {
   "display_name": "Python 3",
   "language": "python",
   "name": "python3"
  },
  "language_info": {
   "codemirror_mode": {
    "name": "ipython",
    "version": 3
   },
   "file_extension": ".py",
   "mimetype": "text/x-python",
   "name": "python",
   "nbconvert_exporter": "python",
   "pygments_lexer": "ipython3",
   "version": "3.4.3"
  }
 },
 "nbformat": 4,
 "nbformat_minor": 0
}
