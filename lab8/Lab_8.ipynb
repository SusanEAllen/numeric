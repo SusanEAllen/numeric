{
 "cells": [
  {
   "cell_type": "markdown",
   "metadata": {},
   "source": [
    "# Laboratory 8:  Solution of the Quasi-geostrophic Equations using an Implicit Scheme #\n",
    "## Lin Yang & John M. Stockie ##\n"
   ]
  },
  {
   "cell_type": "markdown",
   "metadata": {},
   "source": [
    "## 1. Objectives ##\n",
    "\n",
    "This lab is an introduction to the use of implicit schemes for the\n",
    "solution of PDE’s, using as an example the quasi-geostrophic equations\n",
    "that govern the large-scale circulation of the oceans.\n",
    "\n",
    "You will see that the discretization of the governing equations leads to\n",
    "a large, sparse system of linear equations. The resulting matrix problem\n",
    "is solved with relaxation methods, one of which you will write the code\n",
    "for, by modifying the simpler Jacobi relaxation. There are two types of\n",
    "boundary conditions typically used for this problem, one of which you\n",
    "will program yourself – your computations are easily compared to\n",
    "previously-obtained “classical” results."
   ]
  },
  {
   "cell_type": "markdown",
   "metadata": {},
   "source": [
    "## 2. Readings ##\n",
    "There are no required readings for this lab. If you would like some\n",
    "additional background beyond the material in the lab itself, then you\n",
    "may refer to the references listed below:\n",
    "\n",
    "-   **Equations of motion:**\n",
    "\n",
    "    -   Pedlosky @pedlosky, Sections 4.6 & 4.11 (derivation of QG\n",
    "        equations)\n",
    "\n",
    "-   **Nonlinear instability:**\n",
    "\n",
    "    -   Mesinger & Arakawa @mesinger-arakawa (classic paper with\n",
    "        description of instability and aliasing)\n",
    "\n",
    "    -   Arakawa & Lamb @arakawa-lamb (non-linear instability in the QG\n",
    "        equations, with the Arakawa-Jacobian)\n",
    "\n",
    "-   **Numerical methods:**\n",
    "\n",
    "    -   Susan Allen’s course notes (nice description of relaxation)\n",
    "\n",
    "    -   Strang @strang-linalg (analysis of implicit schemes)\n",
    "\n",
    "    -   McCalpin: @mccalpin (<span>FWEB</span> code for QGbox model,\n",
    "        with <span>*extensive*</span> documentation on numerical\n",
    "        details)\n",
    "\n",
    "-   **Classical numerical results:**\n",
    "\n",
    "    -   Veronis @veronis (numerical results)\n",
    "\n",
    "    -   Bryan @bryan (numerical results)\n"
   ]
  },
  {
   "cell_type": "code",
   "execution_count": 1,
   "metadata": {
    "collapsed": true
   },
   "outputs": [],
   "source": [
    "from IPython.display import Image"
   ]
  },
  {
   "cell_type": "markdown",
   "metadata": {},
   "source": [
    "## 3. Introduction ##\n",
    "\n",
    "An important aspect in the study of large-scale circulation in the ocean\n",
    "is the response of the ocean to wind stress. Solution of this problem\n",
    "using the full Navier-Stokes equations is quite complicated, and it is\n",
    "natural to look for some way to simplify the governing equations. A\n",
    "common simplification in many models of large-scale, wind-driven ocean\n",
    "circulation, is to assume a system that is homogeneous and barotropic.\n",
    "\n",
    "It is now natural to ask:\n",
    "\n",
    "> *Does the simplified model capture the important dynamics in the\n",
    "> real ocean?*\n",
    "\n",
    "This question can be investigated by solving the equations numerically,\n",
    "and comparing the results to observations in the real ocean. Many\n",
    "numerical results are already available, and so the purpose of this lab\n",
    "is to introduce you to the numerical methods used to solve this problem,\n",
    "and to compare the computed results to those from some classical papers\n",
    "on numerical ocean simulations.\n",
    "\n",
    "Some of the numerical details (in Sections [lab8:sec:discretef],\n",
    "[lab8:sec:boundary], [lab8:sec:matrix], [lab8:sec:relax] and the\n",
    "appendices are quite technical, and may be passed over the first time\n",
    "you read through the lab. You can get a general idea of the basic\n",
    "solution procedure without them. However, you should return to them\n",
    "later and understand the material contained in them, since these\n",
    "sections contain techniques that are commonly encountered when solving\n",
    "PDE’s, and an understanding of these sections is required for you to\n",
    "answer the problems in the Lab.\n"
   ]
  },
  {
   "cell_type": "markdown",
   "metadata": {},
   "source": [
    "## 4. The Quasi-Geostrophic Model ##\n",
    "\n",
    "Consider a rectangular ocean with a flat bottom, as pictured in\n",
    "[Figure Model Ocean](#Figure-Model-Ocean), and ignore curvature effects, by confining the region of interest to a *mid-latitude $\\beta$-plane*."
   ]
  },
  {
   "cell_type": "code",
   "execution_count": 4,
   "metadata": {
    "collapsed": false
   },
   "outputs": [
    {
     "data": {
      "image/png": "[encoded data removed]",
      "text/plain": [
       "<IPython.core.display.Image object>"
      ]
     },
     "execution_count": 4,
     "metadata": {
      "image/png": {
       "width": "45%"
      }
     },
     "output_type": "execute_result"
    }
   ],
   "source": [
    "Image(filename='images/rect.png',width='45%') "
   ]
  },
  {
   "cell_type": "markdown",
   "metadata": {},
   "source": [
    "<div id='Figure-Model-Ocean'>\n",
    "**Figure Model Ocean.** The rectangular ocean with flat bottom, ignoring curvature\n",
    "effects.\n",
    "</div>\n",
    "\n",
    "More information on what is a $\\beta$-plane and on the neglect of\n",
    "curvature terms in the $\\beta$-plane approximation is given in the\n",
    "appendix.\n",
    "\n",
    "If we assume that the ocean is homogeneous (it has constant density\n",
    "throughout), then the equations governing the fluid motion on the\n",
    "$\\beta$-plane are: \n",
    "\n",
    "<div id='eq:xmom'>\n",
    "(X-Momentum Eqn)\n",
    "$$\n",
    "  \\frac {\\partial u}{\\partial t} + u \\frac {\\partial u}{\\partial x} + v \\frac {\\partial u}{\\partial y} + w \\frac{\\partial u}{\\partial z} - fv = - \\, \\frac{1}{\\rho} \\, \\frac {\\partial p}{\\partial x}\n",
    "  + A_v \\, \\frac{\\partial^2 u}{\\partial z^2} + A_h \\, \\nabla^2 u\n",
    "$$</div>\n",
    "<div id ='eq:ymom'>\n",
    "(Y-Momentum Eqn)\n",
    "$$\n",
    "  \\frac{\\partial v}{\\partial t} + u \\frac{\\partial v}{\\partial x} + v \\frac{\\partial v}{\\partial y} + w \\frac{\\partial v}{\\partial z} + fu = - \\, \\frac{1}{\\rho} \\, \\frac{\\partial p}{\\partial y}\n",
    "  + A_v \\, \\frac{\\partial^2 v}{\\partial z^2} + A_h \\, \\nabla^2 v\n",
    "$$</div>\n",
    "<div id ='eq:hydrostatic'>\n",
    "$$\\frac{\\partial p}{\\partial z} = - \\rho g$$\n",
    "</div>\n",
    "<div id ='eq:continuity'>\n",
    "(Continuity Eqn)\n",
    "$$\\frac {\\partial u}{\\partial x} + \\frac{\\partial v}{\\partial y} = - \\, \\frac{\\partial w}{\\partial z}$$ </div>\n",
    "\n",
    "where\n",
    "\n",
    "-   ([X-Momentum Eqn](#eq:xmom)) and ([Y-Momentum Eqn](#eq:ymom)) are the lateral momentum equations,\n",
    "\n",
    "-   ([Hydrostatic Eqn](#eq:hydrostatic)) is the hydrostatic balance (and replaces the vertical momentum\n",
    "    equation), and\n",
    "\n",
    "-   ([Continuity Eqn](#eq:continuity)) is the continuity (or incompressibility or conservation of volume) condition.\n",
    "\n",
    "The variables and parameters appearing above are:\n",
    "\n",
    "-   $(u,v,w)$, the fluid velocity components;\n",
    "\n",
    "-   $f(y)$, the Coriolis parameter (assumed to be a linear function of\n",
    "    $y$);\n",
    "\n",
    "-   $\\rho$, the density (assumed constant for a homogeneous fluid);\n",
    "\n",
    "-   $A_v$ and $A_h$, the vertical and horizontal coefficients of\n",
    "    viscosity, respectively (constants);\n",
    "\n",
    "-   $g$, the gravitational acceleration (constant).\n",
    "\n",
    "Equations - form a non-linear system of PDE’s, for which there are many\n",
    "numerical methods available. However, due to the complexity of the\n",
    "equations, the methods themselves are *very complex*, and\n",
    "consume a large amount of CPU time. It is therefore advantageous for us\n",
    "to reduce the equations to a simpler form, for which common, and more\n",
    "efficient numerical solution techniques can be used.\n"
   ]
  },
  {
   "cell_type": "markdown",
   "metadata": {},
   "source": [
    "By applying a sequence of physically-motivated approximations (see\n",
    "Appendix), and by using the boundary conditions, the system - can be\n",
    "reduced to a single PDE: \n",
    "<div id='eq:quasi'>\n",
    "$$\n",
    "  \\frac{\\partial}{\\partial t} \\, \\nabla_h^2 \\psi + {\\cal J} \\left( \\psi, \\nabla_h^2 \\psi \\right)\n",
    "  + \\beta \\, \\frac {\\partial \\psi}{\\partial x} = \\frac{1}{\\rho H} \\, \\nabla_h \\times \\tau - \\kappa\n",
    "  \\, \\nabla_h^2 \\psi + A_h \\, \\nabla_h^4 \\psi $$\n",
    "</div>  \n",
    "  where\n",
    "\n",
    "-   $\\psi$ is the stream function, defined by\n",
    "    ${\\displaystyle u = - \\, \\frac{\\partial \\psi}{\\partial y} \\, , \\, v = \\frac{\\partial\n",
    "          \\psi}{\\partial x}}$;\n",
    "\n",
    "-   ${\\displaystyle \\nabla_h = \\left(\\frac{\\partial}{\\partial\n",
    "          x},\\frac{\\partial}{\\partial y}\\right)}$ is the “horizontal”\n",
    "    gradient operator, so-called because it involves only derivatives in\n",
    "    $x$ and $y$;\n",
    "\n",
    "-   ${\\displaystyle {\\cal J} (a,b) = \\frac{\\partial a}{\\partial x} \\, \\frac{\\partial\n",
    "          b}{\\partial y} - \\frac{\\partial a}{\\partial y} \\, \\frac{\\partial b}{\\partial x}}$ is the\n",
    "    <span>*Jacobian*</span> operator;\n",
    "\n",
    "-   $\\vec{\\tau}(x,y) = \\left(\\,\\tau_1(x,y),\\tau_2(x,y)\\,\\right)$ is the\n",
    "    wind stress boundary condition at the surface $z=0$. A simple form\n",
    "    of the wind stress might assume an ocean “box” that extends from\n",
    "    near the equator to a latitude of about $60^\\circ$, for which\n",
    "    typical winds are easterly near the equator and turn westerly at\n",
    "    middle latitudes. A simple function describing this is\n",
    "    $$\\vec{\\tau} = \\tau_{max} (-\\cos y, 0),$$ which is what we will use\n",
    "    in this lab. \n",
    "    \n",
    "    More complicated wind stress functions are possible. See McCalpin’s\n",
    "    <span>QGBOX</span> documentation @mccalpin [p. 24] for another\n",
    "    example."
   ]
  },
  {
   "cell_type": "markdown",
   "metadata": {},
   "source": [
    "-   $\\beta = df/dy$ is a constant, where $f(y) = f_0+\\beta y$ (see\n",
    "    Appendix[lab8:ap:beta-plane];\n",
    "\n",
    "-   ${\\displaystyle \\kappa = \\frac{1}{H}  \\left( \\frac{A_v f_0}{2}\n",
    "        \\right)^{1/2}}$ is the bottom friction scaling (constant); and\n",
    "\n",
    "-   $H$ is the vertical depth of the water column (constant).\n",
    "\n",
    "Notice that the original (second order) system of four equations in four\n",
    "unknowns ($u$, $v$, $w$, $p$) has now been reduced to a single (fourth\n",
    "order) PDE in one unknown function, $\\psi$. It will become clear in the\n",
    "next section just how much simpler the system of equations has become …\n",
    "\n",
    "Before going on, though, we need to close the system with the\n",
    "<span>*boundary conditions*</span> for the stream function $\\psi$. We\n",
    "must actually consider two cases, based on whether or not the lateral\n",
    "eddy viscosity parameter, $A_h$, is zero:\n",
    "\n",
    "-   <span>**if $A_h=0$:**</span> the boundary conditions are\n",
    "    <span>*free-slip*</span>; that is, $\\psi=0$ on the boundary.\n",
    "\n",
    "-   <span>**if $A_h\\neq 0$:**</span> the boundary conditions are\n",
    "    <span>*no-slip*</span>; that is both $\\psi$ and its normal\n",
    "    derivative $\\nabla\\psi\\cdot\\hat{n}$ are zero on the boundary (where\n",
    "    $\\hat{n}$ is the normal vector to the boundary)."
   ]
  },
  {
   "cell_type": "markdown",
   "metadata": {},
   "source": [
    "### 4.1 Scaling the Equations of Motion ###\n",
    "\n",
    "In physical problems, it is not uncommon for some of the quantities of\n",
    "interest to differ in size by many orders of magnitude. This is of\n",
    "particular concern when computing numerical solutions to such problems,\n",
    "since then round-off errors can begin to pollute the computations (see\n",
    "Lab 2).\n",
    "\n",
    "This is also the case for the QG equations, where the parameters have a\n",
    "large variation in size. The QG model parameters, and typical numerical\n",
    "values, are given in Table [lab8:tab:parameters].\n",
    "\n",
    "**Problem Parameters**\n",
    "\n",
    "| Symbol       | Name                        | Range of Magnitude                            | Units              |\n",
    "| :----------: | :-------------------------: | :---------------------------------------: | :----------------: |\n",
    "|   $R$        | Earth’s radius              | $6.4 \\times 10^6$                         |  $m$               |\n",
    "|$\\Omega$      | Angular frequency for Earth | $7.27 \\times 10^{-5}$                     | $s^{-1}$           |\n",
    "|   $H$        | Depth of active layer       | $100 \\rightarrow 4000$                    |  $m$               |\n",
    "| $B$          | Length and width of ocean   | $1.0 \\rightarrow 5.0 \\times 10^6$         | $m$                |\n",
    "| $\\rho$       | Density of water            | $10^3$                                    | $kg/m^3$           |\n",
    "| $A_h$        | Lateral eddy viscosity      | $0$ or $10^1 \\rightarrow 10^4$            | $m^2/s$            |\n",
    "| $A_v$        | Vertical eddy viscosity     | $10^{-4} \\rightarrow 10^{-1}$             | $m^2/s$            |\n",
    "| $\\tau_{max}$ | Maximum wind stress         | $10^{-2} \\rightarrow 1$                   | $kg m^{-1} s^{-2}$ |\n",
    "| $\\theta_0$   | Latitude                    | $0 \\rightarrow \\frac{\\pi}{3}$             | -                  |\n",
    "\n",
    "**Derived Quantities**\n",
    "\n",
    "| Symbol       | Name                                          | Range of Magnitude                         | Units              |\n",
    "| :----------: | :-------------------------------------------: | :----------------------------------------: | :----------------: |\n",
    "| $\\beta$      | $\\beta =2\\Omega \\cos \\theta_0 / R$            | $1.1 \\rightarrow 2.3 \\times 10^{-11}$ | $m^{-1} s^{-1}$    |\n",
    "| $f_0$        | $f_0 = 2 \\Omega \\sin \\theta_0$                | $0.0 \\rightarrow 1.3 \\times 10^{-4}$  | $s^{-1}$           |\n",
    "| $U_0$        | Velocity scale = $\\tau_{max}/(\\beta\\rho H B)$ | $10^{-5} \\rightarrow 10^{-1}$         | $m s^{-1}$  | \n",
    "| $\\kappa$     | bottom friction parameter                     | $0.0 \\rightarrow 10^{-5}$             | $m^2 s^{-2}$  |\n",
    "\n",
    "**Non-dimensional Quantities**\n",
    "\n",
    "| Symbol / Name                                          | Range of Magnitude for Quantity              |\n",
    "| :----------------------------------------------------: | :------------------------------------------: |\n",
    "| $\\epsilon$ / Vorticity ratio = $U_0/(\\beta B^2)$       | (computed)                                   | \n",
    "| $\\frac{\\tau_{max}}{\\epsilon\\beta^2 \\rho H B^3}$        | $10^{-12} \\rightarrow 10^{-14}$              |\n",
    "| $\\frac{\\kappa}{\\beta B}$                               | $4 \\times 10^{-4} \\rightarrow 6 \\times 10^1$ |\n",
    "| $\\frac{A_h}{\\beta B^3}$                                | $10^{-7} \\rightarrow 10^{-4}$                |\n",
    "\n",
    "For such problems it is customary to <span>*rescale*</span> the\n",
    "variables in such a way that the size differences are minimized.\n",
    "\n",
    "Let us go through this scaling process for the evolution\n",
    "equation [lab8:eq:quasi] for the stream function, which is reproduced\n",
    "here for easy comparison:\n",
    "$$\\frac{\\partial}{\\partial t} \\nabla^2_h \\psi = \n",
    "  - \\, \\beta \\frac{\\partial \\psi}{\\partial x}\n",
    "  - {\\cal J}(\\psi, \\nabla_h^2\\psi)\n",
    "  + \\frac{1}{\\rho H} \\nabla_h \\times \\vec{\\tau}\n",
    "  - \\kappa \\nabla_h^2 \\psi\n",
    "  + A_h \\nabla_h^4 \\psi$$ The basic idea is to find typical\n",
    "<span>*scales of motion*</span>, and then redefine the dependent and\n",
    "independent variables in terms of these scales to obtain\n",
    "<span>*dimensionless variables*</span>.\n",
    "\n",
    "For example, the basin width and length, $B$, can be used as a scale for\n",
    "the dependent variables $x$ and $y$. Then, we define dimensionless\n",
    "variables \n",
    "<div id='eq:xscale'>\n",
    "(x-scale eqn)\n",
    "$$x^\\prime = \\frac{x}{B}$$\n",
    "</div><div id='eq:yscale'>\n",
    "(y-scale eqn)\n",
    "$$y^\\prime = \\frac{y}{B}$$\n",
    "</div>\n",
    "\n",
    "Notice that where $x$ and $y$ varied between\n",
    "0 and $B$ (where $B$ could be on the order of hundreds of kilometres),\n",
    "the new variables $x^\\prime$ and $y^\\prime$ now vary between 0 and 1\n",
    "(and so the ocean is now a unit square).\n",
    "\n",
    "Similarly, we can redefine the remaining variables in the problem as\n",
    "<div id='eq:tscale'>\n",
    "(t-scale eqn)\n",
    "$$\n",
    "  t^\\prime = \\frac{t}{\\left(\\frac{1}{\\beta B}\\right)} $$\n",
    "</div><div id='eq:psiscale'>\n",
    "($\\psi$-scale eqn)\n",
    "$$  \\psi^\\prime = \\frac{\\psi}{\\epsilon \\beta B^3} $$\n",
    "</div><div id='eq:tauscale'>\n",
    "($\\tau$-scale eqn)\n",
    "$$  \\vec{\\tau}^\\prime = \\frac{\\vec{\\tau}}{\\tau_{max}}\n",
    "  $$</div>\n",
    "\n",
    "where the scales have been\n",
    "specially chosen to represent typical sizes of the variables. Here, the\n",
    "parameter $\\epsilon$ is a measure of the the ratio between the “relative\n",
    "vorticity” ($\\max|\\nabla_h^2 \\psi|$) and the planetary vorticity (given\n",
    "by $\\beta B$).\n"
   ]
  },
  {
   "cell_type": "markdown",
   "metadata": {},
   "source": [
    "Now, we need only substitute for the original variables in the\n",
    "equations, and replace derivatives with their dimensionless\n",
    "counterparts; for example, using the chain rule,\n",
    "$$\\frac{\\partial}{\\partial x} = \\frac{\\partial x^\\prime}{\\partial x}\n",
    "\\frac{\\partial}{\\partial x^\\prime}.$$ Then the equation of motion\n",
    "becomes \n",
    "<div id='eq:qg-rescaled'>\n",
    "(Rescaled Quasi-Geostrophic Eqn)\n",
    "$$\n",
    "  \\frac{\\partial}{\\partial\n",
    "    t^\\prime} \\nabla^{\\prime 2}_h \\psi^\\prime =  \n",
    "  - \\, \\frac{\\partial \\psi^\\prime}{\\partial x^\\prime} \n",
    "  - \\epsilon {\\cal J^\\prime}(\\psi^\\prime,\n",
    "  \\nabla_h^{\\prime 2}\\psi^\\prime) \n",
    "  + \\frac{\\tau_{max}}{\\epsilon \\beta^2 \\rho H B^3} \\nabla^\\prime_h\n",
    "  \\times \\vec{\\tau}^\\prime \n",
    "   - \\, \\frac{\\kappa}{\\beta B} \\nabla_h^{\\prime 2} \\psi^\\prime\n",
    "  + \\frac{A_h}{\\beta B^3} \\nabla_h^{\\prime 4} \\psi^\\prime \n",
    "  $$ \n",
    "</div>  \n",
    "  The superscript\n",
    "“$\\,^\\prime$” on $\\nabla_h$ and ${\\cal J}$ signify that the derivatives\n",
    "are taken with respect to the dimensionless variables. Notice that each\n",
    "term in ([Rescaled Quasi-Geostrophic Eqn](#eq:qg-rescaled)) is now dimensionless, and that there are\n",
    "now 4 dimensionless combinations of parameters $$\\epsilon, \\;\\; \n",
    "\\frac{\\tau_{max}}{\\epsilon \\beta^2 \\rho H B^3}, \\;\\;\n",
    "\\frac{\\kappa}{\\beta B}, \\;\\; \\mbox{ and} \\;\\;\n",
    "\\frac{A_h}{\\beta B^3}.$$ These four expressions define four new\n",
    "dimensionless parameters that replace the original (unscaled) parameters\n",
    "in the problem.\n",
    "\n",
    "The terms in the equation now involve the dimensionless stream function,\n",
    "$\\psi^\\prime$, and its derivatives, which have been scaled so that they\n",
    "are now of order 1 in magnitude. The differences in sizes between terms\n",
    "in the equation are now embodied solely in the four dimensionless\n",
    "parameters. A term which is multiplied by a small parameter is thus\n",
    "truly small in comparison to the other terms, and hence additive\n",
    "round-off errors will not contribute substantially to a numerical\n",
    "solution based on this form of the equations.\n",
    "\n",
    "For the remainder of this lab, we will use the scaled version of the\n",
    "equations. Consequently, the notation will be simplified by dropping the\n",
    "“primes” on the dimensionless variables. But, **do not\n",
    "forget**, that any solution (numerical or analytical) from the\n",
    "scaled equations must be converted back into dimensional variables\n",
    "using [the scale equations](#eq:xscale)."
   ]
  },
  {
   "cell_type": "markdown",
   "metadata": {},
   "source": [
    "## 5. Discretization of the QG equations ##\n",
    "\n",
    "At first glance, it is probably not clear how one might discretize the\n",
    "QG equation from the previous section. This equation is an evolution\n",
    "equation for $\\nabla_h^2 \\psi$ (the Laplacian of the stream function)\n",
    "but has a right hand side that depends not only on $\\nabla_h^2 \\psi$,\n",
    "but also on $\\psi$ and $\\nabla_h^4 \\psi$. The problem may be written in\n",
    "a more suggestive form, by letting $\\chi = \\partial\\psi/\\partial t$.\n",
    "Then, equation becomes \n",
    "<div id='eq:poisson'>\n",
    "$$\\nabla_h^2 \\chi = F(x,y,t), \n",
    "$$</div> \n",
    "\n",
    "where $F(x,y,t)$ contains all of the terms\n",
    "except the time derivative. We will see that the discrete version of\n",
    "this equation is easily solved for the new unknown variable $\\chi$,\n",
    "after which \n",
    "<div id='eq:dpsidt'>\n",
    "$$\\frac{\\partial\\psi}{\\partial t} = \\chi\n",
    "$$</div>\n",
    "\n",
    "may be used to evolve the stream function in\n",
    "time.\n",
    "\n",
    "The next two sections discuss the spatial and temporal discretization,\n",
    "including some details related to the right hand side, the boundary\n",
    "conditions, and the iterative scheme for solving the large sparse system\n",
    "of equations that arises from the Poisson equation for $\\chi$. Following\n",
    "that is an summary of the steps in the solution procedure.\n",
    "\n"
   ]
  },
  {
   "cell_type": "markdown",
   "metadata": {},
   "source": [
    "# 5.1 Spatial Discretization #\n",
    "\n",
    "Assume that we are dealing with a square ocean, with dimensions\n",
    "$1\\times 1$ (in non-dimensional coordinates) and begin by dividing the\n",
    "domain into a grid of discrete points\n",
    "$$x_i = i \\Delta x, \\;\\;i = 0, 1, 2, \\dots, M$$\n",
    "$$y_j = j \\Delta y, \\;\\;j = 0, 1, 2, \\dots, N$$ where $\\Delta x = 1/M$\n",
    "and $\\Delta y = 1/N$. In order to simplify the discrete equations, it\n",
    "will be helpful to assume that $M=N$, so that\n",
    "$\\Delta x = \\Delta y \\equiv d$. We can then look for approximate values\n",
    "of the stream function at the discrete points; that is, we look for\n",
    "$$\\Psi_{i,j} \\approx \\psi(x_i,y_j)$$ (and similarly for $\\chi_{i,j}$).\n",
    "The computational grid and placement of unknowns is pictured in\n",
    "Figure [Spatial Grid](#Spatial-Grid)."
   ]
  },
  {
   "cell_type": "code",
   "execution_count": 6,
   "metadata": {
    "collapsed": false
   },
   "outputs": [
    {
     "data": {
      "image/png": "[encoded data removed]",
      "text/plain": [
       "<IPython.core.display.Image object>"
      ]
     },
     "execution_count": 6,
     "metadata": {
      "image/png": {
       "width": "45%"
      }
     },
     "output_type": "execute_result"
    }
   ],
   "source": [
    "Image(filename='images/spatial.png',width='45%') "
   ]
  },
  {
   "cell_type": "markdown",
   "metadata": {},
   "source": [
    "<div id='Spatial-Grid'>\n",
    "**Figure Spatial Grid**\n",
    "</div>\n",
    "\n",
    "Derivatives are replaced by their centered, second-order finite\n",
    "difference approximations \n",
    "$$\n",
    "  \\left. \\frac{\\partial \\Psi}{\\partial x} \\right|_{i,j}\n",
    "  \\approx \n",
    "  \\frac{\\Psi_{i+1,j}-\\Psi_{i-1,j}}{2d}\n",
    "%%  + {\\cal O}(d^2) \n",
    "  \\left. \\frac{\\partial^2 \\Psi}{\\partial x^2} \\right|_{i,j} \n",
    "  \\approx\n",
    "  \\frac{\\Psi_{i+1,j} - 2 \\Psi_{i,j} + \\Psi_{i-1,j}}{d^2}\n",
    "%%  + {\\cal O}(d^2) $$ \n",
    "and similarly for the\n",
    "$y$-derivatives. The discrete analogue of the Poisson equation ,\n",
    "centered at the point $(x_i,y_j)$, may be written as\n",
    "$$\\frac{\\chi_{i+1,j} - 2\\chi_{i,j} +\\chi_{i-1,j}}{d^2} + \n",
    "  \\frac{\\chi_{i,j+1} - 2\\chi_{i,j} +\\chi_{i,j-1}}{d^2}  = F_{i,j}$$ or,\n",
    "after rearranging,\n",
    "<div id='eq:discrete-chi'>\n",
    "(Discrete $\\chi$ Eqn)\n",
    "$$\\chi_{i+1,j}+\\chi_{i-1,j}+\\chi_{i,j+1}+\\chi_{i,j-1}-4\\chi_{i,j} =\n",
    "  d^2F_{i,j}.\n",
    "$$</div>\n",
    "\n",
    "Here, we’ve used\n",
    "$F_{i,j} = F(x_i,y_j,t)$ as the values of the right hand side function\n",
    "at the discrete points, and said nothing of how to discretize $F$ (this\n",
    "will be left until Section [lab8:sec:discretef]). The discrete Poisson\n",
    "equation is an equation centered at the grid point $(i,j)$, and relating\n",
    "the values of the approximate solution, $\\chi_{i,j}$, at the $(i,j)$\n",
    "point, to the four neighbouring values, as described by the *5-point difference stencil* pictured in\n",
    "[Figure Stencil](#fig:stencil])."
   ]
  },
  {
   "cell_type": "code",
   "execution_count": 8,
   "metadata": {
    "collapsed": false
   },
   "outputs": [
    {
     "data": {
      "image/png": "[encoded data removed]",
      "text/plain": [
       "<IPython.core.display.Image object>"
      ]
     },
     "execution_count": 8,
     "metadata": {
      "image/png": {
       "width": "40%"
      }
     },
     "output_type": "execute_result"
    }
   ],
   "source": [
    "Image(filename='images/2diff.png',width='40%') "
   ]
  },
  {
   "cell_type": "code",
   "execution_count": null,
   "metadata": {
    "collapsed": true
   },
   "outputs": [],
   "source": []
  }
 ],
 "metadata": {
  "kernelspec": {
   "display_name": "Python 3",
   "language": "python",
   "name": "python3"
  },
  "language_info": {
   "codemirror_mode": {
    "name": "ipython",
    "version": 3
   },
   "file_extension": ".py",
   "mimetype": "text/x-python",
   "name": "python",
   "nbconvert_exporter": "python",
   "pygments_lexer": "ipython3",
   "version": "3.4.3"
  }
 },
 "nbformat": 4,
 "nbformat_minor": 0
}
